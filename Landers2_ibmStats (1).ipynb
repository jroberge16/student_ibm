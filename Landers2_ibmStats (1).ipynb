{
 "cells": [
  {
   "cell_type": "markdown",
   "metadata": {
    "application/vnd.databricks.v1+cell": {
     "cellMetadata": {},
     "inputWidgets": {},
     "nuid": "a36ecb13-46f6-40a9-a5f3-5ab213419644",
     "showTitle": false,
     "title": ""
    }
   },
   "source": [
    "<p style=\"text-align:center\">\n",
    "    <a href=\"https://skills.network/?utm_medium=Exinfluencer&utm_source=Exinfluencer&utm_content=000026UJ&utm_term=10006555&utm_id=NA-SkillsNetwork-Channel-SkillsNetworkCoursesIBMDeveloperSkillsNetworkST0151ENSkillsNetwork20531532-2022-01-01\" target=\"_blank\">\n",
    "    <img src=\"https://cf-courses-data.s3.us.cloud-object-storage.appdomain.cloud/assets/logos/SN_web_lightmode.png\" width=\"200\" alt=\"Skills Network Logo\"  />\n",
    "    </a>\n",
    "</p>"
   ]
  },
  {
   "cell_type": "markdown",
   "metadata": {
    "application/vnd.databricks.v1+cell": {
     "cellMetadata": {},
     "inputWidgets": {},
     "nuid": "777938f7-ef71-451a-b5eb-9d3da24f5d06",
     "showTitle": false,
     "title": ""
    }
   },
   "source": [
    "#### Import the required libraries we need for the lab."
   ]
  },
  {
   "cell_type": "code",
   "execution_count": 0,
   "metadata": {
    "application/vnd.databricks.v1+cell": {
     "cellMetadata": {
      "byteLimit": 2048000,
      "rowLimit": 10000
     },
     "inputWidgets": {},
     "nuid": "2837fa26-aca4-4a34-9a3e-66f4b794dd7b",
     "showTitle": false,
     "title": ""
    }
   },
   "outputs": [
    {
     "output_type": "display_data",
     "data": {
      "application/vnd.databricks.v1+bamboolib_hint": "{\"pd.DataFrames\": [], \"version\": \"0.0.1\"}",
      "text/plain": []
     },
     "metadata": {},
     "output_type": "display_data"
    }
   ],
   "source": [
    "import pandas as pd\n",
    "import pandas as pd\n",
    "import seaborn as sns\n",
    "import matplotlib.pyplot as pyplot\n",
    "import scipy.stats\n",
    "import statsmodels.api as sm\n",
    "from statsmodels.formula.api import ols\n",
    "from matplotlib import pyplot as plt"
   ]
  },
  {
   "cell_type": "markdown",
   "metadata": {
    "application/vnd.databricks.v1+cell": {
     "cellMetadata": {},
     "inputWidgets": {},
     "nuid": "669f2f0c-a9f8-423b-ba7e-ee3d29e2e6ac",
     "showTitle": false,
     "title": ""
    }
   },
   "source": [
    "#### Read the dataset in the csv file from the URL"
   ]
  },
  {
   "cell_type": "code",
   "execution_count": 0,
   "metadata": {
    "application/vnd.databricks.v1+cell": {
     "cellMetadata": {
      "byteLimit": 2048000,
      "rowLimit": 10000
     },
     "inputWidgets": {},
     "nuid": "2270bc22-796e-4d5b-bcd6-a8971a95609f",
     "showTitle": false,
     "title": ""
    }
   },
   "outputs": [
    {
     "output_type": "display_data",
     "data": {
      "text/html": [
       "<div>\n",
       "<style scoped>\n",
       "    .dataframe tbody tr th:only-of-type {\n",
       "        vertical-align: middle;\n",
       "    }\n",
       "\n",
       "    .dataframe tbody tr th {\n",
       "        vertical-align: top;\n",
       "    }\n",
       "\n",
       "    .dataframe thead th {\n",
       "        text-align: right;\n",
       "    }\n",
       "</style>\n",
       "<table border=\"1\" class=\"dataframe\">\n",
       "  <thead>\n",
       "    <tr style=\"text-align: right;\">\n",
       "      <th></th>\n",
       "      <th>Unnamed: 0</th>\n",
       "      <th>CRIM</th>\n",
       "      <th>ZN</th>\n",
       "      <th>INDUS</th>\n",
       "      <th>CHAS</th>\n",
       "      <th>NOX</th>\n",
       "      <th>RM</th>\n",
       "      <th>AGE</th>\n",
       "      <th>DIS</th>\n",
       "      <th>RAD</th>\n",
       "      <th>TAX</th>\n",
       "      <th>PTRATIO</th>\n",
       "      <th>LSTAT</th>\n",
       "      <th>MEDV</th>\n",
       "    </tr>\n",
       "  </thead>\n",
       "  <tbody>\n",
       "    <tr>\n",
       "      <th>0</th>\n",
       "      <td>0</td>\n",
       "      <td>0.00632</td>\n",
       "      <td>18.0</td>\n",
       "      <td>2.31</td>\n",
       "      <td>0.0</td>\n",
       "      <td>0.538</td>\n",
       "      <td>6.575</td>\n",
       "      <td>65.2</td>\n",
       "      <td>4.0900</td>\n",
       "      <td>1.0</td>\n",
       "      <td>296.0</td>\n",
       "      <td>15.3</td>\n",
       "      <td>4.98</td>\n",
       "      <td>24.0</td>\n",
       "    </tr>\n",
       "    <tr>\n",
       "      <th>1</th>\n",
       "      <td>1</td>\n",
       "      <td>0.02731</td>\n",
       "      <td>0.0</td>\n",
       "      <td>7.07</td>\n",
       "      <td>0.0</td>\n",
       "      <td>0.469</td>\n",
       "      <td>6.421</td>\n",
       "      <td>78.9</td>\n",
       "      <td>4.9671</td>\n",
       "      <td>2.0</td>\n",
       "      <td>242.0</td>\n",
       "      <td>17.8</td>\n",
       "      <td>9.14</td>\n",
       "      <td>21.6</td>\n",
       "    </tr>\n",
       "    <tr>\n",
       "      <th>2</th>\n",
       "      <td>2</td>\n",
       "      <td>0.02729</td>\n",
       "      <td>0.0</td>\n",
       "      <td>7.07</td>\n",
       "      <td>0.0</td>\n",
       "      <td>0.469</td>\n",
       "      <td>7.185</td>\n",
       "      <td>61.1</td>\n",
       "      <td>4.9671</td>\n",
       "      <td>2.0</td>\n",
       "      <td>242.0</td>\n",
       "      <td>17.8</td>\n",
       "      <td>4.03</td>\n",
       "      <td>34.7</td>\n",
       "    </tr>\n",
       "    <tr>\n",
       "      <th>3</th>\n",
       "      <td>3</td>\n",
       "      <td>0.03237</td>\n",
       "      <td>0.0</td>\n",
       "      <td>2.18</td>\n",
       "      <td>0.0</td>\n",
       "      <td>0.458</td>\n",
       "      <td>6.998</td>\n",
       "      <td>45.8</td>\n",
       "      <td>6.0622</td>\n",
       "      <td>3.0</td>\n",
       "      <td>222.0</td>\n",
       "      <td>18.7</td>\n",
       "      <td>2.94</td>\n",
       "      <td>33.4</td>\n",
       "    </tr>\n",
       "    <tr>\n",
       "      <th>4</th>\n",
       "      <td>4</td>\n",
       "      <td>0.06905</td>\n",
       "      <td>0.0</td>\n",
       "      <td>2.18</td>\n",
       "      <td>0.0</td>\n",
       "      <td>0.458</td>\n",
       "      <td>7.147</td>\n",
       "      <td>54.2</td>\n",
       "      <td>6.0622</td>\n",
       "      <td>3.0</td>\n",
       "      <td>222.0</td>\n",
       "      <td>18.7</td>\n",
       "      <td>5.33</td>\n",
       "      <td>36.2</td>\n",
       "    </tr>\n",
       "    <tr>\n",
       "      <th>...</th>\n",
       "      <td>...</td>\n",
       "      <td>...</td>\n",
       "      <td>...</td>\n",
       "      <td>...</td>\n",
       "      <td>...</td>\n",
       "      <td>...</td>\n",
       "      <td>...</td>\n",
       "      <td>...</td>\n",
       "      <td>...</td>\n",
       "      <td>...</td>\n",
       "      <td>...</td>\n",
       "      <td>...</td>\n",
       "      <td>...</td>\n",
       "      <td>...</td>\n",
       "    </tr>\n",
       "    <tr>\n",
       "      <th>501</th>\n",
       "      <td>501</td>\n",
       "      <td>0.06263</td>\n",
       "      <td>0.0</td>\n",
       "      <td>11.93</td>\n",
       "      <td>0.0</td>\n",
       "      <td>0.573</td>\n",
       "      <td>6.593</td>\n",
       "      <td>69.1</td>\n",
       "      <td>2.4786</td>\n",
       "      <td>1.0</td>\n",
       "      <td>273.0</td>\n",
       "      <td>21.0</td>\n",
       "      <td>9.67</td>\n",
       "      <td>22.4</td>\n",
       "    </tr>\n",
       "    <tr>\n",
       "      <th>502</th>\n",
       "      <td>502</td>\n",
       "      <td>0.04527</td>\n",
       "      <td>0.0</td>\n",
       "      <td>11.93</td>\n",
       "      <td>0.0</td>\n",
       "      <td>0.573</td>\n",
       "      <td>6.120</td>\n",
       "      <td>76.7</td>\n",
       "      <td>2.2875</td>\n",
       "      <td>1.0</td>\n",
       "      <td>273.0</td>\n",
       "      <td>21.0</td>\n",
       "      <td>9.08</td>\n",
       "      <td>20.6</td>\n",
       "    </tr>\n",
       "    <tr>\n",
       "      <th>503</th>\n",
       "      <td>503</td>\n",
       "      <td>0.06076</td>\n",
       "      <td>0.0</td>\n",
       "      <td>11.93</td>\n",
       "      <td>0.0</td>\n",
       "      <td>0.573</td>\n",
       "      <td>6.976</td>\n",
       "      <td>91.0</td>\n",
       "      <td>2.1675</td>\n",
       "      <td>1.0</td>\n",
       "      <td>273.0</td>\n",
       "      <td>21.0</td>\n",
       "      <td>5.64</td>\n",
       "      <td>23.9</td>\n",
       "    </tr>\n",
       "    <tr>\n",
       "      <th>504</th>\n",
       "      <td>504</td>\n",
       "      <td>0.10959</td>\n",
       "      <td>0.0</td>\n",
       "      <td>11.93</td>\n",
       "      <td>0.0</td>\n",
       "      <td>0.573</td>\n",
       "      <td>6.794</td>\n",
       "      <td>89.3</td>\n",
       "      <td>2.3889</td>\n",
       "      <td>1.0</td>\n",
       "      <td>273.0</td>\n",
       "      <td>21.0</td>\n",
       "      <td>6.48</td>\n",
       "      <td>22.0</td>\n",
       "    </tr>\n",
       "    <tr>\n",
       "      <th>505</th>\n",
       "      <td>505</td>\n",
       "      <td>0.04741</td>\n",
       "      <td>0.0</td>\n",
       "      <td>11.93</td>\n",
       "      <td>0.0</td>\n",
       "      <td>0.573</td>\n",
       "      <td>6.030</td>\n",
       "      <td>80.8</td>\n",
       "      <td>2.5050</td>\n",
       "      <td>1.0</td>\n",
       "      <td>273.0</td>\n",
       "      <td>21.0</td>\n",
       "      <td>7.88</td>\n",
       "      <td>11.9</td>\n",
       "    </tr>\n",
       "  </tbody>\n",
       "</table>\n",
       "<p>506 rows × 14 columns</p>\n",
       "</div>"
      ]
     },
     "metadata": {
      "application/vnd.databricks.v1+output": {
       "addedWidgets": {},
       "arguments": {},
       "data": "<div>\n<style scoped>\n    .dataframe tbody tr th:only-of-type {\n        vertical-align: middle;\n    }\n\n    .dataframe tbody tr th {\n        vertical-align: top;\n    }\n\n    .dataframe thead th {\n        text-align: right;\n    }\n</style>\n<table border=\"1\" class=\"dataframe\">\n  <thead>\n    <tr style=\"text-align: right;\">\n      <th></th>\n      <th>Unnamed: 0</th>\n      <th>CRIM</th>\n      <th>ZN</th>\n      <th>INDUS</th>\n      <th>CHAS</th>\n      <th>NOX</th>\n      <th>RM</th>\n      <th>AGE</th>\n      <th>DIS</th>\n      <th>RAD</th>\n      <th>TAX</th>\n      <th>PTRATIO</th>\n      <th>LSTAT</th>\n      <th>MEDV</th>\n    </tr>\n  </thead>\n  <tbody>\n    <tr>\n      <th>0</th>\n      <td>0</td>\n      <td>0.00632</td>\n      <td>18.0</td>\n      <td>2.31</td>\n      <td>0.0</td>\n      <td>0.538</td>\n      <td>6.575</td>\n      <td>65.2</td>\n      <td>4.0900</td>\n      <td>1.0</td>\n      <td>296.0</td>\n      <td>15.3</td>\n      <td>4.98</td>\n      <td>24.0</td>\n    </tr>\n    <tr>\n      <th>1</th>\n      <td>1</td>\n      <td>0.02731</td>\n      <td>0.0</td>\n      <td>7.07</td>\n      <td>0.0</td>\n      <td>0.469</td>\n      <td>6.421</td>\n      <td>78.9</td>\n      <td>4.9671</td>\n      <td>2.0</td>\n      <td>242.0</td>\n      <td>17.8</td>\n      <td>9.14</td>\n      <td>21.6</td>\n    </tr>\n    <tr>\n      <th>2</th>\n      <td>2</td>\n      <td>0.02729</td>\n      <td>0.0</td>\n      <td>7.07</td>\n      <td>0.0</td>\n      <td>0.469</td>\n      <td>7.185</td>\n      <td>61.1</td>\n      <td>4.9671</td>\n      <td>2.0</td>\n      <td>242.0</td>\n      <td>17.8</td>\n      <td>4.03</td>\n      <td>34.7</td>\n    </tr>\n    <tr>\n      <th>3</th>\n      <td>3</td>\n      <td>0.03237</td>\n      <td>0.0</td>\n      <td>2.18</td>\n      <td>0.0</td>\n      <td>0.458</td>\n      <td>6.998</td>\n      <td>45.8</td>\n      <td>6.0622</td>\n      <td>3.0</td>\n      <td>222.0</td>\n      <td>18.7</td>\n      <td>2.94</td>\n      <td>33.4</td>\n    </tr>\n    <tr>\n      <th>4</th>\n      <td>4</td>\n      <td>0.06905</td>\n      <td>0.0</td>\n      <td>2.18</td>\n      <td>0.0</td>\n      <td>0.458</td>\n      <td>7.147</td>\n      <td>54.2</td>\n      <td>6.0622</td>\n      <td>3.0</td>\n      <td>222.0</td>\n      <td>18.7</td>\n      <td>5.33</td>\n      <td>36.2</td>\n    </tr>\n    <tr>\n      <th>...</th>\n      <td>...</td>\n      <td>...</td>\n      <td>...</td>\n      <td>...</td>\n      <td>...</td>\n      <td>...</td>\n      <td>...</td>\n      <td>...</td>\n      <td>...</td>\n      <td>...</td>\n      <td>...</td>\n      <td>...</td>\n      <td>...</td>\n      <td>...</td>\n    </tr>\n    <tr>\n      <th>501</th>\n      <td>501</td>\n      <td>0.06263</td>\n      <td>0.0</td>\n      <td>11.93</td>\n      <td>0.0</td>\n      <td>0.573</td>\n      <td>6.593</td>\n      <td>69.1</td>\n      <td>2.4786</td>\n      <td>1.0</td>\n      <td>273.0</td>\n      <td>21.0</td>\n      <td>9.67</td>\n      <td>22.4</td>\n    </tr>\n    <tr>\n      <th>502</th>\n      <td>502</td>\n      <td>0.04527</td>\n      <td>0.0</td>\n      <td>11.93</td>\n      <td>0.0</td>\n      <td>0.573</td>\n      <td>6.120</td>\n      <td>76.7</td>\n      <td>2.2875</td>\n      <td>1.0</td>\n      <td>273.0</td>\n      <td>21.0</td>\n      <td>9.08</td>\n      <td>20.6</td>\n    </tr>\n    <tr>\n      <th>503</th>\n      <td>503</td>\n      <td>0.06076</td>\n      <td>0.0</td>\n      <td>11.93</td>\n      <td>0.0</td>\n      <td>0.573</td>\n      <td>6.976</td>\n      <td>91.0</td>\n      <td>2.1675</td>\n      <td>1.0</td>\n      <td>273.0</td>\n      <td>21.0</td>\n      <td>5.64</td>\n      <td>23.9</td>\n    </tr>\n    <tr>\n      <th>504</th>\n      <td>504</td>\n      <td>0.10959</td>\n      <td>0.0</td>\n      <td>11.93</td>\n      <td>0.0</td>\n      <td>0.573</td>\n      <td>6.794</td>\n      <td>89.3</td>\n      <td>2.3889</td>\n      <td>1.0</td>\n      <td>273.0</td>\n      <td>21.0</td>\n      <td>6.48</td>\n      <td>22.0</td>\n    </tr>\n    <tr>\n      <th>505</th>\n      <td>505</td>\n      <td>0.04741</td>\n      <td>0.0</td>\n      <td>11.93</td>\n      <td>0.0</td>\n      <td>0.573</td>\n      <td>6.030</td>\n      <td>80.8</td>\n      <td>2.5050</td>\n      <td>1.0</td>\n      <td>273.0</td>\n      <td>21.0</td>\n      <td>7.88</td>\n      <td>11.9</td>\n    </tr>\n  </tbody>\n</table>\n<p>506 rows × 14 columns</p>\n</div>",
       "datasetInfos": [],
       "metadata": {},
       "removedWidgets": [],
       "textData": null,
       "type": "htmlSandbox"
      }
     },
     "output_type": "display_data"
    }
   ],
   "source": [
    "import pandas as pd\n",
    "boston_df=pd.read_csv(\"/dbfs/mnt/dcdp2023/Data/boston_housing.csv\")\n",
    "boston_df"
   ]
  },
  {
   "cell_type": "code",
   "execution_count": 0,
   "metadata": {
    "application/vnd.databricks.v1+cell": {
     "cellMetadata": {
      "byteLimit": 2048000,
      "rowLimit": 10000
     },
     "inputWidgets": {},
     "nuid": "792f55f1-bf4e-4340-a95b-ac3f1566f18c",
     "showTitle": false,
     "title": ""
    }
   },
   "outputs": [
    {
     "output_type": "stream",
     "name": "stdout",
     "output_type": "stream",
     "text": [
      "Out[3]: Text(0.5, 1.0, 'MEDV Boxplot')"
     ]
    },
    {
     "output_type": "display_data",
     "data": {
      "image/png": "[encoded data removed]"
     },
     "metadata": {
      "application/vnd.databricks.v1+output": {
       "addedWidgets": {},
       "arguments": {},
       "data": "data:image/png;base64,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\n",
       "datasetInfos": [],
       "metadata": {},
       "removedWidgets": [],
       "type": "image"
      }
     },
     "output_type": "display_data"
    }
   ],
   "source": [
    "ax = sns.boxplot(x = 'MEDV' , data = boston_df)\n",
    "pyplot.title('MEDV Boxplot')"
   ]
  },
  {
   "cell_type": "code",
   "execution_count": 0,
   "metadata": {
    "application/vnd.databricks.v1+cell": {
     "cellMetadata": {
      "byteLimit": 2048000,
      "rowLimit": 10000
     },
     "inputWidgets": {},
     "nuid": "eab037ec-e732-45d7-ad0b-127d405646d0",
     "showTitle": false,
     "title": ""
    }
   },
   "outputs": [
    {
     "output_type": "stream",
     "name": "stdout",
     "output_type": "stream",
     "text": [
      "/databricks/python/lib/python3.9/site-packages/seaborn/_decorators.py:36: FutureWarning: Pass the following variable as a keyword arg: x. From version 0.12, the only valid positional argument will be `data`, and passing other arguments without an explicit keyword will result in an error or misinterpretation.\n  warnings.warn(\n"
     ]
    },
    {
     "output_type": "display_data",
     "data": {
      "image/png": "[encoded data removed]"
     },
     "metadata": {
      "application/vnd.databricks.v1+output": {
       "addedWidgets": {},
       "arguments": {},
       "data": "data:image/png;base64,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\n",
       "datasetInfos": [],
       "metadata": {},
       "removedWidgets": [],
       "type": "image"
      }
     },
     "output_type": "display_data"
    }
   ],
   "source": [
    "plt.figure(figsize = (10,10))\n",
    "sns.countplot(boston_df['CHAS'], label = 'Count')\n",
    "\n",
    "pyplot.show()"
   ]
  },
  {
   "cell_type": "code",
   "execution_count": 0,
   "metadata": {
    "application/vnd.databricks.v1+cell": {
     "cellMetadata": {
      "byteLimit": 2048000,
      "rowLimit": 10000
     },
     "inputWidgets": {},
     "nuid": "6905902d-6847-4a4d-9799-95c344b7abff",
     "showTitle": false,
     "title": ""
    }
   },
   "outputs": [
    {
     "output_type": "stream",
     "name": "stdout",
     "output_type": "stream",
     "text": [
      "Out[5]: Text(0.5, 1.0, 'MEDV vs AGE Boxplot')"
     ]
    },
    {
     "output_type": "display_data",
     "data": {
      "image/png": "[encoded data removed]"
     },
     "metadata": {
      "application/vnd.databricks.v1+output": {
       "addedWidgets": {},
       "arguments": {},
       "data": "data:image/png;base64,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\n",
       "datasetInfos": [],
       "metadata": {},
       "removedWidgets": [],
       "type": "image"
      }
     },
     "output_type": "display_data"
    }
   ],
   "source": [
    "boston_df.loc[(boston_df['AGE'] <= 35), 'age_group'] = '35 years and younger'\n",
    "boston_df.loc[(boston_df['AGE'] > 35)&(boston_df['AGE'] < 70), 'age_group'] = 'between 35 and 70 years'\n",
    "boston_df.loc[(boston_df['AGE'] >= 70), 'age_group'] = '70 years and older'\n",
    "\n",
    "ax = sns.boxplot(x = 'AGE' ,y='MEDV', data = boston_df)\n",
    "pyplot.title('MEDV vs AGE Boxplot')"
   ]
  },
  {
   "cell_type": "code",
   "execution_count": 0,
   "metadata": {
    "application/vnd.databricks.v1+cell": {
     "cellMetadata": {
      "byteLimit": 2048000,
      "rowLimit": 10000
     },
     "inputWidgets": {},
     "nuid": "26f5733d-c6ec-4d0e-98e7-5d1f4f9c8d26",
     "showTitle": false,
     "title": ""
    }
   },
   "outputs": [
    {
     "output_type": "stream",
     "name": "stdout",
     "output_type": "stream",
     "text": [
      "Out[6]: Text(0.5, 1.0, 'Scatterplot NOX vs INDUS')"
     ]
    },
    {
     "output_type": "display_data",
     "data": {
      "image/png": "[encoded data removed]"
     },
     "metadata": {
      "application/vnd.databricks.v1+output": {
       "addedWidgets": {},
       "arguments": {},
       "data": "data:image/png;base64,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\n",
       "datasetInfos": [],
       "metadata": {},
       "removedWidgets": [],
       "type": "image"
      }
     },
     "output_type": "display_data"
    }
   ],
   "source": [
    "X = boston_df['NOX']\n",
    "Y = boston_df['INDUS']\n",
    "plt.scatter(X,Y)\n",
    "plt.ylabel('INDUS')\n",
    "plt.xlabel('NOX')\n",
    "plt.title('Scatterplot NOX vs INDUS')\n",
    "#The relaltionship of lower INDUS and low NOX is shown by the scatter plot explaining the lower the business development in the area the lower the nitric oxide concentration. "
   ]
  },
  {
   "cell_type": "code",
   "execution_count": 0,
   "metadata": {
    "application/vnd.databricks.v1+cell": {
     "cellMetadata": {
      "byteLimit": 2048000,
      "rowLimit": 10000
     },
     "inputWidgets": {},
     "nuid": "406f99b3-5e65-4fb5-80b6-8821bbe8e26a",
     "showTitle": false,
     "title": ""
    }
   },
   "outputs": [
    {
     "output_type": "stream",
     "name": "stdout",
     "output_type": "stream",
     "text": [
      "Out[7]: Text(0.5, 1.0, 'PTRATIO Histogram')"
     ]
    },
    {
     "output_type": "display_data",
     "data": {
      "image/png": "[encoded data removed]"
     },
     "metadata": {
      "application/vnd.databricks.v1+output": {
       "addedWidgets": {},
       "arguments": {},
       "data": "data:image/png;base64,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\n",
       "datasetInfos": [],
       "metadata": {},
       "removedWidgets": [],
       "type": "image"
      }
     },
     "output_type": "display_data"
    }
   ],
   "source": [
    "num_bins = 10\n",
    "\n",
    "plt.hist(boston_df['PTRATIO'], num_bins);\n",
    "plt.title('PTRATIO Histogram')\n",
    "#The histogram shows the larger the town the larger the classroom size. "
   ]
  },
  {
   "cell_type": "code",
   "execution_count": 0,
   "metadata": {
    "application/vnd.databricks.v1+cell": {
     "cellMetadata": {
      "byteLimit": 2048000,
      "rowLimit": 10000
     },
     "inputWidgets": {},
     "nuid": "ed44791f-e0af-426d-9338-634fe9ccd446",
     "showTitle": false,
     "title": ""
    }
   },
   "outputs": [
    {
     "output_type": "stream",
     "name": "stdout",
     "output_type": "stream",
     "text": [
      "Out[8]: Ttest_indResult(statistic=-3.996437466090509, pvalue=7.390623170519905e-05)"
     ]
    }
   ],
   "source": [
    "otherwise_0_df = boston_df[ boston_df['CHAS'] ==0]\n",
    "bound_1_df = boston_df[ boston_df['CHAS'] ==1]\n",
    "\n",
    "scipy.stats.ttest_ind(boston_df[ boston_df['CHAS'] ==0]['MEDV'], boston_df[ boston_df['CHAS'] ==1] ['MEDV'] )\n",
    "#null hypothesis is there is no significant difference in median value of houses bounded by the Charles river\n",
    "#Conclusion: The null hypothesis is True"
   ]
  },
  {
   "cell_type": "code",
   "execution_count": 0,
   "metadata": {
    "application/vnd.databricks.v1+cell": {
     "cellMetadata": {
      "byteLimit": 2048000,
      "rowLimit": 10000
     },
     "inputWidgets": {},
     "nuid": "7f9581fe-26da-4706-9079-0e7f0009dbbc",
     "showTitle": false,
     "title": ""
    }
   },
   "outputs": [
    {
     "output_type": "display_data",
     "data": {
      "text/plain": [
       "\u001B[0;31m---------------------------------------------------------------------------\u001B[0m\n",
       "\u001B[0;31mValueError\u001B[0m                                Traceback (most recent call last)\n",
       "\u001B[0;32m<command-3936598661404695>\u001B[0m in \u001B[0;36m<cell line: 5>\u001B[0;34m()\u001B[0m\n",
       "\u001B[1;32m      3\u001B[0m \u001B[0mboston_df\u001B[0m\u001B[0;34m.\u001B[0m\u001B[0mloc\u001B[0m\u001B[0;34m[\u001B[0m\u001B[0;34m(\u001B[0m\u001B[0mboston_df\u001B[0m\u001B[0;34m[\u001B[0m\u001B[0;34m'AGE'\u001B[0m\u001B[0;34m]\u001B[0m \u001B[0;34m>=\u001B[0m \u001B[0;36m70\u001B[0m\u001B[0;34m)\u001B[0m\u001B[0;34m,\u001B[0m \u001B[0;34m'age_group'\u001B[0m\u001B[0;34m]\u001B[0m \u001B[0;34m=\u001B[0m \u001B[0;34m'70 years and older'\u001B[0m\u001B[0;34m\u001B[0m\u001B[0;34m\u001B[0m\u001B[0m\n",
       "\u001B[1;32m      4\u001B[0m \u001B[0;34m\u001B[0m\u001B[0m\n",
       "\u001B[0;32m----> 5\u001B[0;31m \u001B[0mf_statistic\u001B[0m\u001B[0;34m,\u001B[0m \u001B[0mp_value\u001B[0m \u001B[0;34m=\u001B[0m \u001B[0mscipy\u001B[0m\u001B[0;34m.\u001B[0m\u001B[0mstats\u001B[0m\u001B[0;34m.\u001B[0m\u001B[0mf_oneway\u001B[0m\u001B[0;34m(\u001B[0m\u001B[0;34m'MEDV'\u001B[0m\u001B[0;34m,\u001B[0m \u001B[0;34m'AGE'\u001B[0m\u001B[0;34m)\u001B[0m\u001B[0;34m\u001B[0m\u001B[0;34m\u001B[0m\u001B[0m\n",
       "\u001B[0m\u001B[1;32m      6\u001B[0m \u001B[0mprint\u001B[0m\u001B[0;34m(\u001B[0m\u001B[0;34m'F_statistic: {0}, P-Value{1}'\u001B[0m\u001B[0;34m.\u001B[0m\u001B[0mformat\u001B[0m\u001B[0;34m,\u001B[0m\u001B[0mf_statistic\u001B[0m\u001B[0;34m,\u001B[0m \u001B[0mp_value\u001B[0m \u001B[0;34m)\u001B[0m\u001B[0;34m\u001B[0m\u001B[0;34m\u001B[0m\u001B[0m\n",
       "\n",
       "\u001B[0;32m/databricks/python/lib/python3.9/site-packages/scipy/stats/stats.py\u001B[0m in \u001B[0;36mf_oneway\u001B[0;34m(axis, *args)\u001B[0m\n",
       "\u001B[1;32m   3604\u001B[0m         \u001B[0;32mraise\u001B[0m \u001B[0mTypeError\u001B[0m\u001B[0;34m(\u001B[0m\u001B[0;34mf'at least two inputs are required; got {len(args)}.'\u001B[0m\u001B[0;34m)\u001B[0m\u001B[0;34m\u001B[0m\u001B[0;34m\u001B[0m\u001B[0m\n",
       "\u001B[1;32m   3605\u001B[0m \u001B[0;34m\u001B[0m\u001B[0m\n",
       "\u001B[0;32m-> 3606\u001B[0;31m     \u001B[0margs\u001B[0m \u001B[0;34m=\u001B[0m \u001B[0;34m[\u001B[0m\u001B[0mnp\u001B[0m\u001B[0;34m.\u001B[0m\u001B[0masarray\u001B[0m\u001B[0;34m(\u001B[0m\u001B[0marg\u001B[0m\u001B[0;34m,\u001B[0m \u001B[0mdtype\u001B[0m\u001B[0;34m=\u001B[0m\u001B[0mfloat\u001B[0m\u001B[0;34m)\u001B[0m \u001B[0;32mfor\u001B[0m \u001B[0marg\u001B[0m \u001B[0;32min\u001B[0m \u001B[0margs\u001B[0m\u001B[0;34m]\u001B[0m\u001B[0;34m\u001B[0m\u001B[0;34m\u001B[0m\u001B[0m\n",
       "\u001B[0m\u001B[1;32m   3607\u001B[0m \u001B[0;34m\u001B[0m\u001B[0m\n",
       "\u001B[1;32m   3608\u001B[0m     \u001B[0;31m# ANOVA on N groups, each in its own array\u001B[0m\u001B[0;34m\u001B[0m\u001B[0;34m\u001B[0m\u001B[0;34m\u001B[0m\u001B[0m\n",
       "\n",
       "\u001B[0;32m/databricks/python/lib/python3.9/site-packages/scipy/stats/stats.py\u001B[0m in \u001B[0;36m<listcomp>\u001B[0;34m(.0)\u001B[0m\n",
       "\u001B[1;32m   3604\u001B[0m         \u001B[0;32mraise\u001B[0m \u001B[0mTypeError\u001B[0m\u001B[0;34m(\u001B[0m\u001B[0;34mf'at least two inputs are required; got {len(args)}.'\u001B[0m\u001B[0;34m)\u001B[0m\u001B[0;34m\u001B[0m\u001B[0;34m\u001B[0m\u001B[0m\n",
       "\u001B[1;32m   3605\u001B[0m \u001B[0;34m\u001B[0m\u001B[0m\n",
       "\u001B[0;32m-> 3606\u001B[0;31m     \u001B[0margs\u001B[0m \u001B[0;34m=\u001B[0m \u001B[0;34m[\u001B[0m\u001B[0mnp\u001B[0m\u001B[0;34m.\u001B[0m\u001B[0masarray\u001B[0m\u001B[0;34m(\u001B[0m\u001B[0marg\u001B[0m\u001B[0;34m,\u001B[0m \u001B[0mdtype\u001B[0m\u001B[0;34m=\u001B[0m\u001B[0mfloat\u001B[0m\u001B[0;34m)\u001B[0m \u001B[0;32mfor\u001B[0m \u001B[0marg\u001B[0m \u001B[0;32min\u001B[0m \u001B[0margs\u001B[0m\u001B[0;34m]\u001B[0m\u001B[0;34m\u001B[0m\u001B[0;34m\u001B[0m\u001B[0m\n",
       "\u001B[0m\u001B[1;32m   3607\u001B[0m \u001B[0;34m\u001B[0m\u001B[0m\n",
       "\u001B[1;32m   3608\u001B[0m     \u001B[0;31m# ANOVA on N groups, each in its own array\u001B[0m\u001B[0;34m\u001B[0m\u001B[0;34m\u001B[0m\u001B[0;34m\u001B[0m\u001B[0m\n",
       "\n",
       "\u001B[0;32m/databricks/python/lib/python3.9/site-packages/numpy/core/_asarray.py\u001B[0m in \u001B[0;36masarray\u001B[0;34m(a, dtype, order, like)\u001B[0m\n",
       "\u001B[1;32m    100\u001B[0m         \u001B[0;32mreturn\u001B[0m \u001B[0m_asarray_with_like\u001B[0m\u001B[0;34m(\u001B[0m\u001B[0ma\u001B[0m\u001B[0;34m,\u001B[0m \u001B[0mdtype\u001B[0m\u001B[0;34m=\u001B[0m\u001B[0mdtype\u001B[0m\u001B[0;34m,\u001B[0m \u001B[0morder\u001B[0m\u001B[0;34m=\u001B[0m\u001B[0morder\u001B[0m\u001B[0;34m,\u001B[0m \u001B[0mlike\u001B[0m\u001B[0;34m=\u001B[0m\u001B[0mlike\u001B[0m\u001B[0;34m)\u001B[0m\u001B[0;34m\u001B[0m\u001B[0;34m\u001B[0m\u001B[0m\n",
       "\u001B[1;32m    101\u001B[0m \u001B[0;34m\u001B[0m\u001B[0m\n",
       "\u001B[0;32m--> 102\u001B[0;31m     \u001B[0;32mreturn\u001B[0m \u001B[0marray\u001B[0m\u001B[0;34m(\u001B[0m\u001B[0ma\u001B[0m\u001B[0;34m,\u001B[0m \u001B[0mdtype\u001B[0m\u001B[0;34m,\u001B[0m \u001B[0mcopy\u001B[0m\u001B[0;34m=\u001B[0m\u001B[0;32mFalse\u001B[0m\u001B[0;34m,\u001B[0m \u001B[0morder\u001B[0m\u001B[0;34m=\u001B[0m\u001B[0morder\u001B[0m\u001B[0;34m)\u001B[0m\u001B[0;34m\u001B[0m\u001B[0;34m\u001B[0m\u001B[0m\n",
       "\u001B[0m\u001B[1;32m    103\u001B[0m \u001B[0;34m\u001B[0m\u001B[0m\n",
       "\u001B[1;32m    104\u001B[0m \u001B[0;34m\u001B[0m\u001B[0m\n",
       "\n",
       "\u001B[0;31mValueError\u001B[0m: could not convert string to float: 'MEDV'"
      ]
     },
     "metadata": {
      "application/vnd.databricks.v1+output": {
       "arguments": {},
       "data": "\u001B[0;31m---------------------------------------------------------------------------\u001B[0m\n\u001B[0;31mValueError\u001B[0m                                Traceback (most recent call last)\n\u001B[0;32m<command-3936598661404695>\u001B[0m in \u001B[0;36m<cell line: 5>\u001B[0;34m()\u001B[0m\n\u001B[1;32m      3\u001B[0m \u001B[0mboston_df\u001B[0m\u001B[0;34m.\u001B[0m\u001B[0mloc\u001B[0m\u001B[0;34m[\u001B[0m\u001B[0;34m(\u001B[0m\u001B[0mboston_df\u001B[0m\u001B[0;34m[\u001B[0m\u001B[0;34m'AGE'\u001B[0m\u001B[0;34m]\u001B[0m \u001B[0;34m>=\u001B[0m \u001B[0;36m70\u001B[0m\u001B[0;34m)\u001B[0m\u001B[0;34m,\u001B[0m \u001B[0;34m'age_group'\u001B[0m\u001B[0;34m]\u001B[0m \u001B[0;34m=\u001B[0m \u001B[0;34m'70 years and older'\u001B[0m\u001B[0;34m\u001B[0m\u001B[0;34m\u001B[0m\u001B[0m\n\u001B[1;32m      4\u001B[0m \u001B[0;34m\u001B[0m\u001B[0m\n\u001B[0;32m----> 5\u001B[0;31m \u001B[0mf_statistic\u001B[0m\u001B[0;34m,\u001B[0m \u001B[0mp_value\u001B[0m \u001B[0;34m=\u001B[0m \u001B[0mscipy\u001B[0m\u001B[0;34m.\u001B[0m\u001B[0mstats\u001B[0m\u001B[0;34m.\u001B[0m\u001B[0mf_oneway\u001B[0m\u001B[0;34m(\u001B[0m\u001B[0;34m'MEDV'\u001B[0m\u001B[0;34m,\u001B[0m \u001B[0;34m'AGE'\u001B[0m\u001B[0;34m)\u001B[0m\u001B[0;34m\u001B[0m\u001B[0;34m\u001B[0m\u001B[0m\n\u001B[0m\u001B[1;32m      6\u001B[0m \u001B[0mprint\u001B[0m\u001B[0;34m(\u001B[0m\u001B[0;34m'F_statistic: {0}, P-Value{1}'\u001B[0m\u001B[0;34m.\u001B[0m\u001B[0mformat\u001B[0m\u001B[0;34m,\u001B[0m\u001B[0mf_statistic\u001B[0m\u001B[0;34m,\u001B[0m \u001B[0mp_value\u001B[0m \u001B[0;34m)\u001B[0m\u001B[0;34m\u001B[0m\u001B[0;34m\u001B[0m\u001B[0m\n\n\u001B[0;32m/databricks/python/lib/python3.9/site-packages/scipy/stats/stats.py\u001B[0m in \u001B[0;36mf_oneway\u001B[0;34m(axis, *args)\u001B[0m\n\u001B[1;32m   3604\u001B[0m         \u001B[0;32mraise\u001B[0m \u001B[0mTypeError\u001B[0m\u001B[0;34m(\u001B[0m\u001B[0;34mf'at least two inputs are required; got {len(args)}.'\u001B[0m\u001B[0;34m)\u001B[0m\u001B[0;34m\u001B[0m\u001B[0;34m\u001B[0m\u001B[0m\n\u001B[1;32m   3605\u001B[0m \u001B[0;34m\u001B[0m\u001B[0m\n\u001B[0;32m-> 3606\u001B[0;31m     \u001B[0margs\u001B[0m \u001B[0;34m=\u001B[0m \u001B[0;34m[\u001B[0m\u001B[0mnp\u001B[0m\u001B[0;34m.\u001B[0m\u001B[0masarray\u001B[0m\u001B[0;34m(\u001B[0m\u001B[0marg\u001B[0m\u001B[0;34m,\u001B[0m \u001B[0mdtype\u001B[0m\u001B[0;34m=\u001B[0m\u001B[0mfloat\u001B[0m\u001B[0;34m)\u001B[0m \u001B[0;32mfor\u001B[0m \u001B[0marg\u001B[0m \u001B[0;32min\u001B[0m \u001B[0margs\u001B[0m\u001B[0;34m]\u001B[0m\u001B[0;34m\u001B[0m\u001B[0;34m\u001B[0m\u001B[0m\n\u001B[0m\u001B[1;32m   3607\u001B[0m \u001B[0;34m\u001B[0m\u001B[0m\n\u001B[1;32m   3608\u001B[0m     \u001B[0;31m# ANOVA on N groups, each in its own array\u001B[0m\u001B[0;34m\u001B[0m\u001B[0;34m\u001B[0m\u001B[0;34m\u001B[0m\u001B[0m\n\n\u001B[0;32m/databricks/python/lib/python3.9/site-packages/scipy/stats/stats.py\u001B[0m in \u001B[0;36m<listcomp>\u001B[0;34m(.0)\u001B[0m\n\u001B[1;32m   3604\u001B[0m         \u001B[0;32mraise\u001B[0m \u001B[0mTypeError\u001B[0m\u001B[0;34m(\u001B[0m\u001B[0;34mf'at least two inputs are required; got {len(args)}.'\u001B[0m\u001B[0;34m)\u001B[0m\u001B[0;34m\u001B[0m\u001B[0;34m\u001B[0m\u001B[0m\n\u001B[1;32m   3605\u001B[0m \u001B[0;34m\u001B[0m\u001B[0m\n\u001B[0;32m-> 3606\u001B[0;31m     \u001B[0margs\u001B[0m \u001B[0;34m=\u001B[0m \u001B[0;34m[\u001B[0m\u001B[0mnp\u001B[0m\u001B[0;34m.\u001B[0m\u001B[0masarray\u001B[0m\u001B[0;34m(\u001B[0m\u001B[0marg\u001B[0m\u001B[0;34m,\u001B[0m \u001B[0mdtype\u001B[0m\u001B[0;34m=\u001B[0m\u001B[0mfloat\u001B[0m\u001B[0;34m)\u001B[0m \u001B[0;32mfor\u001B[0m \u001B[0marg\u001B[0m \u001B[0;32min\u001B[0m \u001B[0margs\u001B[0m\u001B[0;34m]\u001B[0m\u001B[0;34m\u001B[0m\u001B[0;34m\u001B[0m\u001B[0m\n\u001B[0m\u001B[1;32m   3607\u001B[0m \u001B[0;34m\u001B[0m\u001B[0m\n\u001B[1;32m   3608\u001B[0m     \u001B[0;31m# ANOVA on N groups, each in its own array\u001B[0m\u001B[0;34m\u001B[0m\u001B[0;34m\u001B[0m\u001B[0;34m\u001B[0m\u001B[0m\n\n\u001B[0;32m/databricks/python/lib/python3.9/site-packages/numpy/core/_asarray.py\u001B[0m in \u001B[0;36masarray\u001B[0;34m(a, dtype, order, like)\u001B[0m\n\u001B[1;32m    100\u001B[0m         \u001B[0;32mreturn\u001B[0m \u001B[0m_asarray_with_like\u001B[0m\u001B[0;34m(\u001B[0m\u001B[0ma\u001B[0m\u001B[0;34m,\u001B[0m \u001B[0mdtype\u001B[0m\u001B[0;34m=\u001B[0m\u001B[0mdtype\u001B[0m\u001B[0;34m,\u001B[0m \u001B[0morder\u001B[0m\u001B[0;34m=\u001B[0m\u001B[0morder\u001B[0m\u001B[0;34m,\u001B[0m \u001B[0mlike\u001B[0m\u001B[0;34m=\u001B[0m\u001B[0mlike\u001B[0m\u001B[0;34m)\u001B[0m\u001B[0;34m\u001B[0m\u001B[0;34m\u001B[0m\u001B[0m\n\u001B[1;32m    101\u001B[0m \u001B[0;34m\u001B[0m\u001B[0m\n\u001B[0;32m--> 102\u001B[0;31m     \u001B[0;32mreturn\u001B[0m \u001B[0marray\u001B[0m\u001B[0;34m(\u001B[0m\u001B[0ma\u001B[0m\u001B[0;34m,\u001B[0m \u001B[0mdtype\u001B[0m\u001B[0;34m,\u001B[0m \u001B[0mcopy\u001B[0m\u001B[0;34m=\u001B[0m\u001B[0;32mFalse\u001B[0m\u001B[0;34m,\u001B[0m \u001B[0morder\u001B[0m\u001B[0;34m=\u001B[0m\u001B[0morder\u001B[0m\u001B[0;34m)\u001B[0m\u001B[0;34m\u001B[0m\u001B[0;34m\u001B[0m\u001B[0m\n\u001B[0m\u001B[1;32m    103\u001B[0m \u001B[0;34m\u001B[0m\u001B[0m\n\u001B[1;32m    104\u001B[0m \u001B[0;34m\u001B[0m\u001B[0m\n\n\u001B[0;31mValueError\u001B[0m: could not convert string to float: 'MEDV'",
       "errorSummary": "<span class='ansi-red-fg'>ValueError</span>: could not convert string to float: 'MEDV'",
       "errorTraceType": "ansi",
       "metadata": {},
       "type": "ipynbError"
      }
     },
     "output_type": "display_data"
    }
   ],
   "source": [
    "boston_df.loc[(boston_df['AGE'] <= 35), 'age_group'] = '35 years and younger'\n",
    "boston_df.loc[(boston_df['AGE'] > 35)&(boston_df['AGE'] < 70), 'age_group'] = 'between 35 and 70 years'\n",
    "boston_df.loc[(boston_df['AGE'] >= 70), 'age_group'] = '70 years and older'\n",
    "\n",
    "f_statistic, p_value = scipy.stats.f_oneway('MEDV', 'AGE')\n",
    "print('F_statistic: {0}, P-Value{1}'.format,f_statistic, p_value )"
   ]
  },
  {
   "cell_type": "code",
   "execution_count": 0,
   "metadata": {
    "application/vnd.databricks.v1+cell": {
     "cellMetadata": {
      "byteLimit": 2048000,
      "rowLimit": 10000
     },
     "inputWidgets": {},
     "nuid": "b271469b-9117-43d1-9e61-06d3fbafa826",
     "showTitle": false,
     "title": ""
    }
   },
   "outputs": [
    {
     "output_type": "stream",
     "name": "stdout",
     "output_type": "stream",
     "text": [
      "Out[10]: (0.7636514469209151, 7.913361061238693e-98)"
     ]
    }
   ],
   "source": [
    "scipy.stats.pearsonr(boston_df['NOX'], boston_df['INDUS'])\n",
    "#Conclusion: There is a realtionship."
   ]
  },
  {
   "cell_type": "code",
   "execution_count": 0,
   "metadata": {
    "application/vnd.databricks.v1+cell": {
     "cellMetadata": {
      "byteLimit": 2048000,
      "rowLimit": 10000
     },
     "inputWidgets": {},
     "nuid": "2ba55346-a5ff-4203-8d94-5056577c084a",
     "showTitle": false,
     "title": ""
    }
   },
   "outputs": [
    {
     "output_type": "stream",
     "name": "stdout",
     "output_type": "stream",
     "text": [
      "/databricks/python/lib/python3.9/site-packages/statsmodels/tsa/tsatools.py:142: FutureWarning: In a future version of pandas all arguments of concat except for the argument 'objs' will be keyword-only\n  x = pd.concat(x[::order], 1)\n"
     ]
    },
    {
     "output_type": "display_data",
     "data": {
      "text/html": [
       "<table class=\"simpletable\">\n",
       "<caption>OLS Regression Results</caption>\n",
       "<tr>\n",
       "  <th>Dep. Variable:</th>          <td>MEDV</td>       <th>  R-squared:         </th> <td>   0.062</td>\n",
       "</tr>\n",
       "<tr>\n",
       "  <th>Model:</th>                   <td>OLS</td>       <th>  Adj. R-squared:    </th> <td>   0.061</td>\n",
       "</tr>\n",
       "<tr>\n",
       "  <th>Method:</th>             <td>Least Squares</td>  <th>  F-statistic:       </th> <td>   33.58</td>\n",
       "</tr>\n",
       "<tr>\n",
       "  <th>Date:</th>             <td>Wed, 12 Jul 2023</td> <th>  Prob (F-statistic):</th> <td>1.21e-08</td>\n",
       "</tr>\n",
       "<tr>\n",
       "  <th>Time:</th>                 <td>14:22:13</td>     <th>  Log-Likelihood:    </th> <td> -1823.9</td>\n",
       "</tr>\n",
       "<tr>\n",
       "  <th>No. Observations:</th>      <td>   506</td>      <th>  AIC:               </th> <td>   3652.</td>\n",
       "</tr>\n",
       "<tr>\n",
       "  <th>Df Residuals:</th>          <td>   504</td>      <th>  BIC:               </th> <td>   3660.</td>\n",
       "</tr>\n",
       "<tr>\n",
       "  <th>Df Model:</th>              <td>     1</td>      <th>                     </th>     <td> </td>   \n",
       "</tr>\n",
       "<tr>\n",
       "  <th>Covariance Type:</th>      <td>nonrobust</td>    <th>                     </th>     <td> </td>   \n",
       "</tr>\n",
       "</table>\n",
       "<table class=\"simpletable\">\n",
       "<tr>\n",
       "    <td></td>       <th>coef</th>     <th>std err</th>      <th>t</th>      <th>P>|t|</th>  <th>[0.025</th>    <th>0.975]</th>  \n",
       "</tr>\n",
       "<tr>\n",
       "  <th>const</th> <td>   18.3901</td> <td>    0.817</td> <td>   22.499</td> <td> 0.000</td> <td>   16.784</td> <td>   19.996</td>\n",
       "</tr>\n",
       "<tr>\n",
       "  <th>DIS</th>   <td>    1.0916</td> <td>    0.188</td> <td>    5.795</td> <td> 0.000</td> <td>    0.722</td> <td>    1.462</td>\n",
       "</tr>\n",
       "</table>\n",
       "<table class=\"simpletable\">\n",
       "<tr>\n",
       "  <th>Omnibus:</th>       <td>139.779</td> <th>  Durbin-Watson:     </th> <td>   0.570</td>\n",
       "</tr>\n",
       "<tr>\n",
       "  <th>Prob(Omnibus):</th> <td> 0.000</td>  <th>  Jarque-Bera (JB):  </th> <td> 305.104</td>\n",
       "</tr>\n",
       "<tr>\n",
       "  <th>Skew:</th>          <td> 1.466</td>  <th>  Prob(JB):          </th> <td>5.59e-67</td>\n",
       "</tr>\n",
       "<tr>\n",
       "  <th>Kurtosis:</th>      <td> 5.424</td>  <th>  Cond. No.          </th> <td>    9.32</td>\n",
       "</tr>\n",
       "</table><br/><br/>Notes:<br/>[1] Standard Errors assume that the covariance matrix of the errors is correctly specified."
      ]
     },
     "metadata": {
      "application/vnd.databricks.v1+output": {
       "addedWidgets": {},
       "arguments": {},
       "data": "<table class=\"simpletable\">\n<caption>OLS Regression Results</caption>\n<tr>\n  <th>Dep. Variable:</th>          <td>MEDV</td>       <th>  R-squared:         </th> <td>   0.062</td>\n</tr>\n<tr>\n  <th>Model:</th>                   <td>OLS</td>       <th>  Adj. R-squared:    </th> <td>   0.061</td>\n</tr>\n<tr>\n  <th>Method:</th>             <td>Least Squares</td>  <th>  F-statistic:       </th> <td>   33.58</td>\n</tr>\n<tr>\n  <th>Date:</th>             <td>Wed, 12 Jul 2023</td> <th>  Prob (F-statistic):</th> <td>1.21e-08</td>\n</tr>\n<tr>\n  <th>Time:</th>                 <td>14:22:13</td>     <th>  Log-Likelihood:    </th> <td> -1823.9</td>\n</tr>\n<tr>\n  <th>No. Observations:</th>      <td>   506</td>      <th>  AIC:               </th> <td>   3652.</td>\n</tr>\n<tr>\n  <th>Df Residuals:</th>          <td>   504</td>      <th>  BIC:               </th> <td>   3660.</td>\n</tr>\n<tr>\n  <th>Df Model:</th>              <td>     1</td>      <th>                     </th>     <td> </td>   \n</tr>\n<tr>\n  <th>Covariance Type:</th>      <td>nonrobust</td>    <th>                     </th>     <td> </td>   \n</tr>\n</table>\n<table class=\"simpletable\">\n<tr>\n    <td></td>       <th>coef</th>     <th>std err</th>      <th>t</th>      <th>P>|t|</th>  <th>[0.025</th>    <th>0.975]</th>  \n</tr>\n<tr>\n  <th>const</th> <td>   18.3901</td> <td>    0.817</td> <td>   22.499</td> <td> 0.000</td> <td>   16.784</td> <td>   19.996</td>\n</tr>\n<tr>\n  <th>DIS</th>   <td>    1.0916</td> <td>    0.188</td> <td>    5.795</td> <td> 0.000</td> <td>    0.722</td> <td>    1.462</td>\n</tr>\n</table>\n<table class=\"simpletable\">\n<tr>\n  <th>Omnibus:</th>       <td>139.779</td> <th>  Durbin-Watson:     </th> <td>   0.570</td>\n</tr>\n<tr>\n  <th>Prob(Omnibus):</th> <td> 0.000</td>  <th>  Jarque-Bera (JB):  </th> <td> 305.104</td>\n</tr>\n<tr>\n  <th>Skew:</th>          <td> 1.466</td>  <th>  Prob(JB):          </th> <td>5.59e-67</td>\n</tr>\n<tr>\n  <th>Kurtosis:</th>      <td> 5.424</td>  <th>  Cond. No.          </th> <td>    9.32</td>\n</tr>\n</table><br/><br/>Notes:<br/>[1] Standard Errors assume that the covariance matrix of the errors is correctly specified.",
       "datasetInfos": [],
       "metadata": {},
       "removedWidgets": [],
       "textData": null,
       "type": "htmlSandbox"
      }
     },
     "output_type": "display_data"
    }
   ],
   "source": [
    "X = boston_df['DIS']\n",
    "Y = boston_df['MEDV']\n",
    "X = sm.add_constant(X)\n",
    "\n",
    "model = sm.OLS(Y,X).fit()\n",
    "predictions = model.predict(X)\n",
    "\n",
    "model.summary()\n",
    "#Conclusion The impact is 1.0916. "
   ]
  },
  {
   "cell_type": "code",
   "execution_count": 0,
   "metadata": {
    "application/vnd.databricks.v1+cell": {
     "cellMetadata": {},
     "inputWidgets": {},
     "nuid": "0b9dd472-7f69-4f79-ad4c-fa48683c4908",
     "showTitle": false,
     "title": ""
    }
   },
   "outputs": [],
   "source": []
  }
 ],
 "metadata": {
  "application/vnd.databricks.v1+notebook": {
   "dashboards": [],
   "language": "python",
   "notebookMetadata": {
    "pythonIndentUnit": 4
   },
   "notebookName": "StudentName_ibmStats",
   "widgets": {}
  }
 },
 "nbformat": 4,
 "nbformat_minor": 0
}
