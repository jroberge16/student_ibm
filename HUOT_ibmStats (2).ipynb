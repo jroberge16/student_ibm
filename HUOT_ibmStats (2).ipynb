{
 "cells": [
  {
   "cell_type": "markdown",
   "metadata": {
    "application/vnd.databricks.v1+cell": {
     "cellMetadata": {
      "byteLimit": 2048000,
      "rowLimit": 10000
     },
     "inputWidgets": {},
     "nuid": "a36ecb13-46f6-40a9-a5f3-5ab213419644",
     "showTitle": false,
     "title": ""
    }
   },
   "source": [
    "<p style=\"text-align:center\">\n",
    "    <a href=\"https://skills.network/?utm_medium=Exinfluencer&utm_source=Exinfluencer&utm_content=000026UJ&utm_term=10006555&utm_id=NA-SkillsNetwork-Channel-SkillsNetworkCoursesIBMDeveloperSkillsNetworkST0151ENSkillsNetwork20531532-2022-01-01\" target=\"_blank\">\n",
    "    <img src=\"https://cf-courses-data.s3.us.cloud-object-storage.appdomain.cloud/assets/logos/SN_web_lightmode.png\" width=\"200\" alt=\"Skills Network Logo\"  />\n",
    "    </a>\n",
    "</p>"
   ]
  },
  {
   "cell_type": "markdown",
   "metadata": {
    "application/vnd.databricks.v1+cell": {
     "cellMetadata": {
      "byteLimit": 2048000,
      "rowLimit": 10000
     },
     "inputWidgets": {},
     "nuid": "777938f7-ef71-451a-b5eb-9d3da24f5d06",
     "showTitle": false,
     "title": ""
    }
   },
   "source": [
    "#### Import the required libraries we need for the lab."
   ]
  },
  {
   "cell_type": "code",
   "execution_count": 0,
   "metadata": {
    "application/vnd.databricks.v1+cell": {
     "cellMetadata": {
      "byteLimit": 2048000,
      "rowLimit": 10000
     },
     "inputWidgets": {},
     "nuid": "2837fa26-aca4-4a34-9a3e-66f4b794dd7b",
     "showTitle": false,
     "title": ""
    }
   },
   "outputs": [
    {
     "output_type": "display_data",
     "data": {
      "application/vnd.databricks.v1+bamboolib_hint": "{\"pd.DataFrames\": [], \"version\": \"0.0.1\"}",
      "text/plain": []
     },
     "metadata": {},
     "output_type": "display_data"
    }
   ],
   "source": [
    "import pandas as pd\n",
    "import pandas as pd\n",
    "import seaborn as sns\n",
    "import matplotlib.pyplot as pyplot\n",
    "import scipy.stats\n",
    "import statsmodels.api as sm\n",
    "from statsmodels.formula.api import ols\n",
    "from matplotlib import pyplot as plt"
   ]
  },
  {
   "cell_type": "markdown",
   "metadata": {
    "application/vnd.databricks.v1+cell": {
     "cellMetadata": {
      "byteLimit": 2048000,
      "rowLimit": 10000
     },
     "inputWidgets": {},
     "nuid": "669f2f0c-a9f8-423b-ba7e-ee3d29e2e6ac",
     "showTitle": false,
     "title": ""
    }
   },
   "source": [
    "#### Read the dataset in the csv file from the URL"
   ]
  },
  {
   "cell_type": "code",
   "execution_count": 0,
   "metadata": {
    "application/vnd.databricks.v1+cell": {
     "cellMetadata": {
      "byteLimit": 2048000,
      "rowLimit": 10000
     },
     "inputWidgets": {},
     "nuid": "2270bc22-796e-4d5b-bcd6-a8971a95609f",
     "showTitle": false,
     "title": ""
    }
   },
   "outputs": [
    {
     "output_type": "display_data",
     "data": {
      "text/html": [
       "<div>\n",
       "<style scoped>\n",
       "    .dataframe tbody tr th:only-of-type {\n",
       "        vertical-align: middle;\n",
       "    }\n",
       "\n",
       "    .dataframe tbody tr th {\n",
       "        vertical-align: top;\n",
       "    }\n",
       "\n",
       "    .dataframe thead th {\n",
       "        text-align: right;\n",
       "    }\n",
       "</style>\n",
       "<table border=\"1\" class=\"dataframe\">\n",
       "  <thead>\n",
       "    <tr style=\"text-align: right;\">\n",
       "      <th></th>\n",
       "      <th>Unnamed: 0</th>\n",
       "      <th>CRIM</th>\n",
       "      <th>ZN</th>\n",
       "      <th>INDUS</th>\n",
       "      <th>CHAS</th>\n",
       "      <th>NOX</th>\n",
       "      <th>RM</th>\n",
       "      <th>AGE</th>\n",
       "      <th>DIS</th>\n",
       "      <th>RAD</th>\n",
       "      <th>TAX</th>\n",
       "      <th>PTRATIO</th>\n",
       "      <th>LSTAT</th>\n",
       "      <th>MEDV</th>\n",
       "    </tr>\n",
       "  </thead>\n",
       "  <tbody>\n",
       "    <tr>\n",
       "      <th>0</th>\n",
       "      <td>0</td>\n",
       "      <td>0.00632</td>\n",
       "      <td>18.0</td>\n",
       "      <td>2.31</td>\n",
       "      <td>0.0</td>\n",
       "      <td>0.538</td>\n",
       "      <td>6.575</td>\n",
       "      <td>65.2</td>\n",
       "      <td>4.0900</td>\n",
       "      <td>1.0</td>\n",
       "      <td>296.0</td>\n",
       "      <td>15.3</td>\n",
       "      <td>4.98</td>\n",
       "      <td>24.0</td>\n",
       "    </tr>\n",
       "    <tr>\n",
       "      <th>1</th>\n",
       "      <td>1</td>\n",
       "      <td>0.02731</td>\n",
       "      <td>0.0</td>\n",
       "      <td>7.07</td>\n",
       "      <td>0.0</td>\n",
       "      <td>0.469</td>\n",
       "      <td>6.421</td>\n",
       "      <td>78.9</td>\n",
       "      <td>4.9671</td>\n",
       "      <td>2.0</td>\n",
       "      <td>242.0</td>\n",
       "      <td>17.8</td>\n",
       "      <td>9.14</td>\n",
       "      <td>21.6</td>\n",
       "    </tr>\n",
       "    <tr>\n",
       "      <th>2</th>\n",
       "      <td>2</td>\n",
       "      <td>0.02729</td>\n",
       "      <td>0.0</td>\n",
       "      <td>7.07</td>\n",
       "      <td>0.0</td>\n",
       "      <td>0.469</td>\n",
       "      <td>7.185</td>\n",
       "      <td>61.1</td>\n",
       "      <td>4.9671</td>\n",
       "      <td>2.0</td>\n",
       "      <td>242.0</td>\n",
       "      <td>17.8</td>\n",
       "      <td>4.03</td>\n",
       "      <td>34.7</td>\n",
       "    </tr>\n",
       "    <tr>\n",
       "      <th>3</th>\n",
       "      <td>3</td>\n",
       "      <td>0.03237</td>\n",
       "      <td>0.0</td>\n",
       "      <td>2.18</td>\n",
       "      <td>0.0</td>\n",
       "      <td>0.458</td>\n",
       "      <td>6.998</td>\n",
       "      <td>45.8</td>\n",
       "      <td>6.0622</td>\n",
       "      <td>3.0</td>\n",
       "      <td>222.0</td>\n",
       "      <td>18.7</td>\n",
       "      <td>2.94</td>\n",
       "      <td>33.4</td>\n",
       "    </tr>\n",
       "    <tr>\n",
       "      <th>4</th>\n",
       "      <td>4</td>\n",
       "      <td>0.06905</td>\n",
       "      <td>0.0</td>\n",
       "      <td>2.18</td>\n",
       "      <td>0.0</td>\n",
       "      <td>0.458</td>\n",
       "      <td>7.147</td>\n",
       "      <td>54.2</td>\n",
       "      <td>6.0622</td>\n",
       "      <td>3.0</td>\n",
       "      <td>222.0</td>\n",
       "      <td>18.7</td>\n",
       "      <td>5.33</td>\n",
       "      <td>36.2</td>\n",
       "    </tr>\n",
       "    <tr>\n",
       "      <th>...</th>\n",
       "      <td>...</td>\n",
       "      <td>...</td>\n",
       "      <td>...</td>\n",
       "      <td>...</td>\n",
       "      <td>...</td>\n",
       "      <td>...</td>\n",
       "      <td>...</td>\n",
       "      <td>...</td>\n",
       "      <td>...</td>\n",
       "      <td>...</td>\n",
       "      <td>...</td>\n",
       "      <td>...</td>\n",
       "      <td>...</td>\n",
       "      <td>...</td>\n",
       "    </tr>\n",
       "    <tr>\n",
       "      <th>501</th>\n",
       "      <td>501</td>\n",
       "      <td>0.06263</td>\n",
       "      <td>0.0</td>\n",
       "      <td>11.93</td>\n",
       "      <td>0.0</td>\n",
       "      <td>0.573</td>\n",
       "      <td>6.593</td>\n",
       "      <td>69.1</td>\n",
       "      <td>2.4786</td>\n",
       "      <td>1.0</td>\n",
       "      <td>273.0</td>\n",
       "      <td>21.0</td>\n",
       "      <td>9.67</td>\n",
       "      <td>22.4</td>\n",
       "    </tr>\n",
       "    <tr>\n",
       "      <th>502</th>\n",
       "      <td>502</td>\n",
       "      <td>0.04527</td>\n",
       "      <td>0.0</td>\n",
       "      <td>11.93</td>\n",
       "      <td>0.0</td>\n",
       "      <td>0.573</td>\n",
       "      <td>6.120</td>\n",
       "      <td>76.7</td>\n",
       "      <td>2.2875</td>\n",
       "      <td>1.0</td>\n",
       "      <td>273.0</td>\n",
       "      <td>21.0</td>\n",
       "      <td>9.08</td>\n",
       "      <td>20.6</td>\n",
       "    </tr>\n",
       "    <tr>\n",
       "      <th>503</th>\n",
       "      <td>503</td>\n",
       "      <td>0.06076</td>\n",
       "      <td>0.0</td>\n",
       "      <td>11.93</td>\n",
       "      <td>0.0</td>\n",
       "      <td>0.573</td>\n",
       "      <td>6.976</td>\n",
       "      <td>91.0</td>\n",
       "      <td>2.1675</td>\n",
       "      <td>1.0</td>\n",
       "      <td>273.0</td>\n",
       "      <td>21.0</td>\n",
       "      <td>5.64</td>\n",
       "      <td>23.9</td>\n",
       "    </tr>\n",
       "    <tr>\n",
       "      <th>504</th>\n",
       "      <td>504</td>\n",
       "      <td>0.10959</td>\n",
       "      <td>0.0</td>\n",
       "      <td>11.93</td>\n",
       "      <td>0.0</td>\n",
       "      <td>0.573</td>\n",
       "      <td>6.794</td>\n",
       "      <td>89.3</td>\n",
       "      <td>2.3889</td>\n",
       "      <td>1.0</td>\n",
       "      <td>273.0</td>\n",
       "      <td>21.0</td>\n",
       "      <td>6.48</td>\n",
       "      <td>22.0</td>\n",
       "    </tr>\n",
       "    <tr>\n",
       "      <th>505</th>\n",
       "      <td>505</td>\n",
       "      <td>0.04741</td>\n",
       "      <td>0.0</td>\n",
       "      <td>11.93</td>\n",
       "      <td>0.0</td>\n",
       "      <td>0.573</td>\n",
       "      <td>6.030</td>\n",
       "      <td>80.8</td>\n",
       "      <td>2.5050</td>\n",
       "      <td>1.0</td>\n",
       "      <td>273.0</td>\n",
       "      <td>21.0</td>\n",
       "      <td>7.88</td>\n",
       "      <td>11.9</td>\n",
       "    </tr>\n",
       "  </tbody>\n",
       "</table>\n",
       "<p>506 rows × 14 columns</p>\n",
       "</div>"
      ]
     },
     "metadata": {
      "application/vnd.databricks.v1+output": {
       "addedWidgets": {},
       "arguments": {},
       "data": "<div>\n<style scoped>\n    .dataframe tbody tr th:only-of-type {\n        vertical-align: middle;\n    }\n\n    .dataframe tbody tr th {\n        vertical-align: top;\n    }\n\n    .dataframe thead th {\n        text-align: right;\n    }\n</style>\n<table border=\"1\" class=\"dataframe\">\n  <thead>\n    <tr style=\"text-align: right;\">\n      <th></th>\n      <th>Unnamed: 0</th>\n      <th>CRIM</th>\n      <th>ZN</th>\n      <th>INDUS</th>\n      <th>CHAS</th>\n      <th>NOX</th>\n      <th>RM</th>\n      <th>AGE</th>\n      <th>DIS</th>\n      <th>RAD</th>\n      <th>TAX</th>\n      <th>PTRATIO</th>\n      <th>LSTAT</th>\n      <th>MEDV</th>\n    </tr>\n  </thead>\n  <tbody>\n    <tr>\n      <th>0</th>\n      <td>0</td>\n      <td>0.00632</td>\n      <td>18.0</td>\n      <td>2.31</td>\n      <td>0.0</td>\n      <td>0.538</td>\n      <td>6.575</td>\n      <td>65.2</td>\n      <td>4.0900</td>\n      <td>1.0</td>\n      <td>296.0</td>\n      <td>15.3</td>\n      <td>4.98</td>\n      <td>24.0</td>\n    </tr>\n    <tr>\n      <th>1</th>\n      <td>1</td>\n      <td>0.02731</td>\n      <td>0.0</td>\n      <td>7.07</td>\n      <td>0.0</td>\n      <td>0.469</td>\n      <td>6.421</td>\n      <td>78.9</td>\n      <td>4.9671</td>\n      <td>2.0</td>\n      <td>242.0</td>\n      <td>17.8</td>\n      <td>9.14</td>\n      <td>21.6</td>\n    </tr>\n    <tr>\n      <th>2</th>\n      <td>2</td>\n      <td>0.02729</td>\n      <td>0.0</td>\n      <td>7.07</td>\n      <td>0.0</td>\n      <td>0.469</td>\n      <td>7.185</td>\n      <td>61.1</td>\n      <td>4.9671</td>\n      <td>2.0</td>\n      <td>242.0</td>\n      <td>17.8</td>\n      <td>4.03</td>\n      <td>34.7</td>\n    </tr>\n    <tr>\n      <th>3</th>\n      <td>3</td>\n      <td>0.03237</td>\n      <td>0.0</td>\n      <td>2.18</td>\n      <td>0.0</td>\n      <td>0.458</td>\n      <td>6.998</td>\n      <td>45.8</td>\n      <td>6.0622</td>\n      <td>3.0</td>\n      <td>222.0</td>\n      <td>18.7</td>\n      <td>2.94</td>\n      <td>33.4</td>\n    </tr>\n    <tr>\n      <th>4</th>\n      <td>4</td>\n      <td>0.06905</td>\n      <td>0.0</td>\n      <td>2.18</td>\n      <td>0.0</td>\n      <td>0.458</td>\n      <td>7.147</td>\n      <td>54.2</td>\n      <td>6.0622</td>\n      <td>3.0</td>\n      <td>222.0</td>\n      <td>18.7</td>\n      <td>5.33</td>\n      <td>36.2</td>\n    </tr>\n    <tr>\n      <th>...</th>\n      <td>...</td>\n      <td>...</td>\n      <td>...</td>\n      <td>...</td>\n      <td>...</td>\n      <td>...</td>\n      <td>...</td>\n      <td>...</td>\n      <td>...</td>\n      <td>...</td>\n      <td>...</td>\n      <td>...</td>\n      <td>...</td>\n      <td>...</td>\n    </tr>\n    <tr>\n      <th>501</th>\n      <td>501</td>\n      <td>0.06263</td>\n      <td>0.0</td>\n      <td>11.93</td>\n      <td>0.0</td>\n      <td>0.573</td>\n      <td>6.593</td>\n      <td>69.1</td>\n      <td>2.4786</td>\n      <td>1.0</td>\n      <td>273.0</td>\n      <td>21.0</td>\n      <td>9.67</td>\n      <td>22.4</td>\n    </tr>\n    <tr>\n      <th>502</th>\n      <td>502</td>\n      <td>0.04527</td>\n      <td>0.0</td>\n      <td>11.93</td>\n      <td>0.0</td>\n      <td>0.573</td>\n      <td>6.120</td>\n      <td>76.7</td>\n      <td>2.2875</td>\n      <td>1.0</td>\n      <td>273.0</td>\n      <td>21.0</td>\n      <td>9.08</td>\n      <td>20.6</td>\n    </tr>\n    <tr>\n      <th>503</th>\n      <td>503</td>\n      <td>0.06076</td>\n      <td>0.0</td>\n      <td>11.93</td>\n      <td>0.0</td>\n      <td>0.573</td>\n      <td>6.976</td>\n      <td>91.0</td>\n      <td>2.1675</td>\n      <td>1.0</td>\n      <td>273.0</td>\n      <td>21.0</td>\n      <td>5.64</td>\n      <td>23.9</td>\n    </tr>\n    <tr>\n      <th>504</th>\n      <td>504</td>\n      <td>0.10959</td>\n      <td>0.0</td>\n      <td>11.93</td>\n      <td>0.0</td>\n      <td>0.573</td>\n      <td>6.794</td>\n      <td>89.3</td>\n      <td>2.3889</td>\n      <td>1.0</td>\n      <td>273.0</td>\n      <td>21.0</td>\n      <td>6.48</td>\n      <td>22.0</td>\n    </tr>\n    <tr>\n      <th>505</th>\n      <td>505</td>\n      <td>0.04741</td>\n      <td>0.0</td>\n      <td>11.93</td>\n      <td>0.0</td>\n      <td>0.573</td>\n      <td>6.030</td>\n      <td>80.8</td>\n      <td>2.5050</td>\n      <td>1.0</td>\n      <td>273.0</td>\n      <td>21.0</td>\n      <td>7.88</td>\n      <td>11.9</td>\n    </tr>\n  </tbody>\n</table>\n<p>506 rows × 14 columns</p>\n</div>",
       "datasetInfos": [],
       "metadata": {},
       "removedWidgets": [],
       "textData": null,
       "type": "htmlSandbox"
      }
     },
     "output_type": "display_data"
    }
   ],
   "source": [
    "import pandas as pd\n",
    "boston_df=pd.read_csv(\"/dbfs/mnt/dcdp2023/Data/boston_housing.csv\")\n",
    "boston_df"
   ]
  },
  {
   "cell_type": "code",
   "execution_count": 0,
   "metadata": {
    "application/vnd.databricks.v1+cell": {
     "cellMetadata": {
      "byteLimit": 2048000,
      "rowLimit": 10000
     },
     "inputWidgets": {},
     "nuid": "792f55f1-bf4e-4340-a95b-ac3f1566f18c",
     "showTitle": false,
     "title": ""
    }
   },
   "outputs": [
    {
     "output_type": "display_data",
     "data": {
      "image/png": "[encoded data removed]"
     },
     "metadata": {
      "application/vnd.databricks.v1+output": {
       "addedWidgets": {},
       "arguments": {},
       "data": "data:image/png;base64,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\n",
       "datasetInfos": [],
       "metadata": {},
       "removedWidgets": [],
       "type": "image"
      }
     },
     "output_type": "display_data"
    }
   ],
   "source": [
    "# figure size\n",
    "sns.set(style=\"whitegrid\")\n",
    "fig = plt.figure(figsize =(7, 10))\n",
    "\n",
    "# Creating plot\n",
    "plt.title('Median value of owner-occupied homes in $1000s')\n",
    "ax = sns.boxplot(y=\"MEDV\", data=boston_df)\n",
    "\n",
    "# show plot\n",
    "plt.show()\n"
   ]
  },
  {
   "cell_type": "code",
   "execution_count": 0,
   "metadata": {
    "application/vnd.databricks.v1+cell": {
     "cellMetadata": {},
     "inputWidgets": {},
     "nuid": "db75cb28-14e9-48ac-8486-ddfef1da41fd",
     "showTitle": false,
     "title": ""
    }
   },
   "outputs": [],
   "source": [
    "#The data seem to be normally distributed around the median value."
   ]
  },
  {
   "cell_type": "code",
   "execution_count": 0,
   "metadata": {
    "application/vnd.databricks.v1+cell": {
     "cellMetadata": {
      "byteLimit": 2048000,
      "rowLimit": 10000
     },
     "inputWidgets": {},
     "nuid": "eab037ec-e732-45d7-ad0b-127d405646d0",
     "showTitle": false,
     "title": ""
    }
   },
   "outputs": [
    {
     "output_type": "stream",
     "name": "stdout",
     "output_type": "stream",
     "text": [
      "Out[18]: <AxesSubplot:title={'center':'Number of houses bounded by the Charles River'}, xlabel='CHAS', ylabel='count'>"
     ]
    },
    {
     "output_type": "display_data",
     "data": {
      "image/png": "[encoded data removed]"
     },
     "metadata": {
      "application/vnd.databricks.v1+output": {
       "addedWidgets": {},
       "arguments": {},
       "data": "data:image/png;base64,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\n",
       "datasetInfos": [],
       "metadata": {},
       "removedWidgets": [],
       "type": "image"
      }
     },
     "output_type": "display_data"
    }
   ],
   "source": [
    "sns.set_theme(style=\"whitegrid\")\n",
    "plt.title('Number of houses bounded by the Charles River')\n",
    "sns.countplot(x=boston_df['CHAS'])"
   ]
  },
  {
   "cell_type": "code",
   "execution_count": 0,
   "metadata": {
    "application/vnd.databricks.v1+cell": {
     "cellMetadata": {},
     "inputWidgets": {},
     "nuid": "28d1e2d3-884a-4502-9379-6cb090bad472",
     "showTitle": false,
     "title": ""
    }
   },
   "outputs": [],
   "source": [
    "#Few houses are bounded by the Charles river."
   ]
  },
  {
   "cell_type": "code",
   "execution_count": 0,
   "metadata": {
    "application/vnd.databricks.v1+cell": {
     "cellMetadata": {
      "byteLimit": 2048000,
      "rowLimit": 10000
     },
     "inputWidgets": {},
     "nuid": "6905902d-6847-4a4d-9799-95c344b7abff",
     "showTitle": false,
     "title": ""
    }
   },
   "outputs": [
    {
     "output_type": "display_data",
     "data": {
      "image/png": "[encoded data removed]"
     },
     "metadata": {
      "application/vnd.databricks.v1+output": {
       "addedWidgets": {},
       "arguments": {},
       "data": "data:image/png;base64,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\n",
       "datasetInfos": [],
       "metadata": {},
       "removedWidgets": [],
       "type": "image"
      }
     },
     "output_type": "display_data"
    }
   ],
   "source": [
    "#group by age\n",
    "boston_df.loc[(boston_df['AGE']<=35),'age_group']='35 years and younger'\n",
    "boston_df.loc[(boston_df['AGE']>35)&(boston_df['AGE']<70), 'age_group']='between 35 and 70'\n",
    "boston_df.loc[(boston_df['AGE']>=70), 'age_group']='70 years and older'\n",
    "\n",
    "ax=plt.figure(figsize=(15,10))\n",
    "ax=sns.boxplot(x='age_group', y='MEDV',data=boston_df)"
   ]
  },
  {
   "cell_type": "code",
   "execution_count": 0,
   "metadata": {
    "application/vnd.databricks.v1+cell": {
     "cellMetadata": {
      "byteLimit": 2048000,
      "rowLimit": 10000
     },
     "inputWidgets": {},
     "nuid": "7c06c592-7929-4a62-a82d-bd9276b29db8",
     "showTitle": false,
     "title": ""
    }
   },
   "outputs": [
    {
     "output_type": "display_data",
     "data": {
      "text/html": [
       "<div>\n",
       "<style scoped>\n",
       "    .dataframe tbody tr th:only-of-type {\n",
       "        vertical-align: middle;\n",
       "    }\n",
       "\n",
       "    .dataframe tbody tr th {\n",
       "        vertical-align: top;\n",
       "    }\n",
       "\n",
       "    .dataframe thead th {\n",
       "        text-align: right;\n",
       "    }\n",
       "</style>\n",
       "<table border=\"1\" class=\"dataframe\">\n",
       "  <thead>\n",
       "    <tr style=\"text-align: right;\">\n",
       "      <th></th>\n",
       "      <th>Unnamed: 0</th>\n",
       "      <th>CRIM</th>\n",
       "      <th>ZN</th>\n",
       "      <th>INDUS</th>\n",
       "      <th>CHAS</th>\n",
       "      <th>NOX</th>\n",
       "      <th>RM</th>\n",
       "      <th>AGE</th>\n",
       "      <th>DIS</th>\n",
       "      <th>RAD</th>\n",
       "      <th>TAX</th>\n",
       "      <th>PTRATIO</th>\n",
       "      <th>LSTAT</th>\n",
       "      <th>MEDV</th>\n",
       "      <th>age_group</th>\n",
       "    </tr>\n",
       "  </thead>\n",
       "  <tbody>\n",
       "    <tr>\n",
       "      <th>0</th>\n",
       "      <td>0</td>\n",
       "      <td>0.00632</td>\n",
       "      <td>18.0</td>\n",
       "      <td>2.31</td>\n",
       "      <td>0.0</td>\n",
       "      <td>0.538</td>\n",
       "      <td>6.575</td>\n",
       "      <td>65.2</td>\n",
       "      <td>4.0900</td>\n",
       "      <td>1.0</td>\n",
       "      <td>296.0</td>\n",
       "      <td>15.3</td>\n",
       "      <td>4.98</td>\n",
       "      <td>24.0</td>\n",
       "      <td>between 35 and 70</td>\n",
       "    </tr>\n",
       "    <tr>\n",
       "      <th>1</th>\n",
       "      <td>1</td>\n",
       "      <td>0.02731</td>\n",
       "      <td>0.0</td>\n",
       "      <td>7.07</td>\n",
       "      <td>0.0</td>\n",
       "      <td>0.469</td>\n",
       "      <td>6.421</td>\n",
       "      <td>78.9</td>\n",
       "      <td>4.9671</td>\n",
       "      <td>2.0</td>\n",
       "      <td>242.0</td>\n",
       "      <td>17.8</td>\n",
       "      <td>9.14</td>\n",
       "      <td>21.6</td>\n",
       "      <td>70 years and older</td>\n",
       "    </tr>\n",
       "    <tr>\n",
       "      <th>2</th>\n",
       "      <td>2</td>\n",
       "      <td>0.02729</td>\n",
       "      <td>0.0</td>\n",
       "      <td>7.07</td>\n",
       "      <td>0.0</td>\n",
       "      <td>0.469</td>\n",
       "      <td>7.185</td>\n",
       "      <td>61.1</td>\n",
       "      <td>4.9671</td>\n",
       "      <td>2.0</td>\n",
       "      <td>242.0</td>\n",
       "      <td>17.8</td>\n",
       "      <td>4.03</td>\n",
       "      <td>34.7</td>\n",
       "      <td>between 35 and 70</td>\n",
       "    </tr>\n",
       "    <tr>\n",
       "      <th>3</th>\n",
       "      <td>3</td>\n",
       "      <td>0.03237</td>\n",
       "      <td>0.0</td>\n",
       "      <td>2.18</td>\n",
       "      <td>0.0</td>\n",
       "      <td>0.458</td>\n",
       "      <td>6.998</td>\n",
       "      <td>45.8</td>\n",
       "      <td>6.0622</td>\n",
       "      <td>3.0</td>\n",
       "      <td>222.0</td>\n",
       "      <td>18.7</td>\n",
       "      <td>2.94</td>\n",
       "      <td>33.4</td>\n",
       "      <td>between 35 and 70</td>\n",
       "    </tr>\n",
       "    <tr>\n",
       "      <th>4</th>\n",
       "      <td>4</td>\n",
       "      <td>0.06905</td>\n",
       "      <td>0.0</td>\n",
       "      <td>2.18</td>\n",
       "      <td>0.0</td>\n",
       "      <td>0.458</td>\n",
       "      <td>7.147</td>\n",
       "      <td>54.2</td>\n",
       "      <td>6.0622</td>\n",
       "      <td>3.0</td>\n",
       "      <td>222.0</td>\n",
       "      <td>18.7</td>\n",
       "      <td>5.33</td>\n",
       "      <td>36.2</td>\n",
       "      <td>between 35 and 70</td>\n",
       "    </tr>\n",
       "    <tr>\n",
       "      <th>...</th>\n",
       "      <td>...</td>\n",
       "      <td>...</td>\n",
       "      <td>...</td>\n",
       "      <td>...</td>\n",
       "      <td>...</td>\n",
       "      <td>...</td>\n",
       "      <td>...</td>\n",
       "      <td>...</td>\n",
       "      <td>...</td>\n",
       "      <td>...</td>\n",
       "      <td>...</td>\n",
       "      <td>...</td>\n",
       "      <td>...</td>\n",
       "      <td>...</td>\n",
       "      <td>...</td>\n",
       "    </tr>\n",
       "    <tr>\n",
       "      <th>501</th>\n",
       "      <td>501</td>\n",
       "      <td>0.06263</td>\n",
       "      <td>0.0</td>\n",
       "      <td>11.93</td>\n",
       "      <td>0.0</td>\n",
       "      <td>0.573</td>\n",
       "      <td>6.593</td>\n",
       "      <td>69.1</td>\n",
       "      <td>2.4786</td>\n",
       "      <td>1.0</td>\n",
       "      <td>273.0</td>\n",
       "      <td>21.0</td>\n",
       "      <td>9.67</td>\n",
       "      <td>22.4</td>\n",
       "      <td>between 35 and 70</td>\n",
       "    </tr>\n",
       "    <tr>\n",
       "      <th>502</th>\n",
       "      <td>502</td>\n",
       "      <td>0.04527</td>\n",
       "      <td>0.0</td>\n",
       "      <td>11.93</td>\n",
       "      <td>0.0</td>\n",
       "      <td>0.573</td>\n",
       "      <td>6.120</td>\n",
       "      <td>76.7</td>\n",
       "      <td>2.2875</td>\n",
       "      <td>1.0</td>\n",
       "      <td>273.0</td>\n",
       "      <td>21.0</td>\n",
       "      <td>9.08</td>\n",
       "      <td>20.6</td>\n",
       "      <td>70 years and older</td>\n",
       "    </tr>\n",
       "    <tr>\n",
       "      <th>503</th>\n",
       "      <td>503</td>\n",
       "      <td>0.06076</td>\n",
       "      <td>0.0</td>\n",
       "      <td>11.93</td>\n",
       "      <td>0.0</td>\n",
       "      <td>0.573</td>\n",
       "      <td>6.976</td>\n",
       "      <td>91.0</td>\n",
       "      <td>2.1675</td>\n",
       "      <td>1.0</td>\n",
       "      <td>273.0</td>\n",
       "      <td>21.0</td>\n",
       "      <td>5.64</td>\n",
       "      <td>23.9</td>\n",
       "      <td>70 years and older</td>\n",
       "    </tr>\n",
       "    <tr>\n",
       "      <th>504</th>\n",
       "      <td>504</td>\n",
       "      <td>0.10959</td>\n",
       "      <td>0.0</td>\n",
       "      <td>11.93</td>\n",
       "      <td>0.0</td>\n",
       "      <td>0.573</td>\n",
       "      <td>6.794</td>\n",
       "      <td>89.3</td>\n",
       "      <td>2.3889</td>\n",
       "      <td>1.0</td>\n",
       "      <td>273.0</td>\n",
       "      <td>21.0</td>\n",
       "      <td>6.48</td>\n",
       "      <td>22.0</td>\n",
       "      <td>70 years and older</td>\n",
       "    </tr>\n",
       "    <tr>\n",
       "      <th>505</th>\n",
       "      <td>505</td>\n",
       "      <td>0.04741</td>\n",
       "      <td>0.0</td>\n",
       "      <td>11.93</td>\n",
       "      <td>0.0</td>\n",
       "      <td>0.573</td>\n",
       "      <td>6.030</td>\n",
       "      <td>80.8</td>\n",
       "      <td>2.5050</td>\n",
       "      <td>1.0</td>\n",
       "      <td>273.0</td>\n",
       "      <td>21.0</td>\n",
       "      <td>7.88</td>\n",
       "      <td>11.9</td>\n",
       "      <td>70 years and older</td>\n",
       "    </tr>\n",
       "  </tbody>\n",
       "</table>\n",
       "<p>506 rows × 15 columns</p>\n",
       "</div>"
      ]
     },
     "metadata": {
      "application/vnd.databricks.v1+output": {
       "addedWidgets": {},
       "arguments": {},
       "data": "<div>\n<style scoped>\n    .dataframe tbody tr th:only-of-type {\n        vertical-align: middle;\n    }\n\n    .dataframe tbody tr th {\n        vertical-align: top;\n    }\n\n    .dataframe thead th {\n        text-align: right;\n    }\n</style>\n<table border=\"1\" class=\"dataframe\">\n  <thead>\n    <tr style=\"text-align: right;\">\n      <th></th>\n      <th>Unnamed: 0</th>\n      <th>CRIM</th>\n      <th>ZN</th>\n      <th>INDUS</th>\n      <th>CHAS</th>\n      <th>NOX</th>\n      <th>RM</th>\n      <th>AGE</th>\n      <th>DIS</th>\n      <th>RAD</th>\n      <th>TAX</th>\n      <th>PTRATIO</th>\n      <th>LSTAT</th>\n      <th>MEDV</th>\n      <th>age_group</th>\n    </tr>\n  </thead>\n  <tbody>\n    <tr>\n      <th>0</th>\n      <td>0</td>\n      <td>0.00632</td>\n      <td>18.0</td>\n      <td>2.31</td>\n      <td>0.0</td>\n      <td>0.538</td>\n      <td>6.575</td>\n      <td>65.2</td>\n      <td>4.0900</td>\n      <td>1.0</td>\n      <td>296.0</td>\n      <td>15.3</td>\n      <td>4.98</td>\n      <td>24.0</td>\n      <td>between 35 and 70</td>\n    </tr>\n    <tr>\n      <th>1</th>\n      <td>1</td>\n      <td>0.02731</td>\n      <td>0.0</td>\n      <td>7.07</td>\n      <td>0.0</td>\n      <td>0.469</td>\n      <td>6.421</td>\n      <td>78.9</td>\n      <td>4.9671</td>\n      <td>2.0</td>\n      <td>242.0</td>\n      <td>17.8</td>\n      <td>9.14</td>\n      <td>21.6</td>\n      <td>70 years and older</td>\n    </tr>\n    <tr>\n      <th>2</th>\n      <td>2</td>\n      <td>0.02729</td>\n      <td>0.0</td>\n      <td>7.07</td>\n      <td>0.0</td>\n      <td>0.469</td>\n      <td>7.185</td>\n      <td>61.1</td>\n      <td>4.9671</td>\n      <td>2.0</td>\n      <td>242.0</td>\n      <td>17.8</td>\n      <td>4.03</td>\n      <td>34.7</td>\n      <td>between 35 and 70</td>\n    </tr>\n    <tr>\n      <th>3</th>\n      <td>3</td>\n      <td>0.03237</td>\n      <td>0.0</td>\n      <td>2.18</td>\n      <td>0.0</td>\n      <td>0.458</td>\n      <td>6.998</td>\n      <td>45.8</td>\n      <td>6.0622</td>\n      <td>3.0</td>\n      <td>222.0</td>\n      <td>18.7</td>\n      <td>2.94</td>\n      <td>33.4</td>\n      <td>between 35 and 70</td>\n    </tr>\n    <tr>\n      <th>4</th>\n      <td>4</td>\n      <td>0.06905</td>\n      <td>0.0</td>\n      <td>2.18</td>\n      <td>0.0</td>\n      <td>0.458</td>\n      <td>7.147</td>\n      <td>54.2</td>\n      <td>6.0622</td>\n      <td>3.0</td>\n      <td>222.0</td>\n      <td>18.7</td>\n      <td>5.33</td>\n      <td>36.2</td>\n      <td>between 35 and 70</td>\n    </tr>\n    <tr>\n      <th>...</th>\n      <td>...</td>\n      <td>...</td>\n      <td>...</td>\n      <td>...</td>\n      <td>...</td>\n      <td>...</td>\n      <td>...</td>\n      <td>...</td>\n      <td>...</td>\n      <td>...</td>\n      <td>...</td>\n      <td>...</td>\n      <td>...</td>\n      <td>...</td>\n      <td>...</td>\n    </tr>\n    <tr>\n      <th>501</th>\n      <td>501</td>\n      <td>0.06263</td>\n      <td>0.0</td>\n      <td>11.93</td>\n      <td>0.0</td>\n      <td>0.573</td>\n      <td>6.593</td>\n      <td>69.1</td>\n      <td>2.4786</td>\n      <td>1.0</td>\n      <td>273.0</td>\n      <td>21.0</td>\n      <td>9.67</td>\n      <td>22.4</td>\n      <td>between 35 and 70</td>\n    </tr>\n    <tr>\n      <th>502</th>\n      <td>502</td>\n      <td>0.04527</td>\n      <td>0.0</td>\n      <td>11.93</td>\n      <td>0.0</td>\n      <td>0.573</td>\n      <td>6.120</td>\n      <td>76.7</td>\n      <td>2.2875</td>\n      <td>1.0</td>\n      <td>273.0</td>\n      <td>21.0</td>\n      <td>9.08</td>\n      <td>20.6</td>\n      <td>70 years and older</td>\n    </tr>\n    <tr>\n      <th>503</th>\n      <td>503</td>\n      <td>0.06076</td>\n      <td>0.0</td>\n      <td>11.93</td>\n      <td>0.0</td>\n      <td>0.573</td>\n      <td>6.976</td>\n      <td>91.0</td>\n      <td>2.1675</td>\n      <td>1.0</td>\n      <td>273.0</td>\n      <td>21.0</td>\n      <td>5.64</td>\n      <td>23.9</td>\n      <td>70 years and older</td>\n    </tr>\n    <tr>\n      <th>504</th>\n      <td>504</td>\n      <td>0.10959</td>\n      <td>0.0</td>\n      <td>11.93</td>\n      <td>0.0</td>\n      <td>0.573</td>\n      <td>6.794</td>\n      <td>89.3</td>\n      <td>2.3889</td>\n      <td>1.0</td>\n      <td>273.0</td>\n      <td>21.0</td>\n      <td>6.48</td>\n      <td>22.0</td>\n      <td>70 years and older</td>\n    </tr>\n    <tr>\n      <th>505</th>\n      <td>505</td>\n      <td>0.04741</td>\n      <td>0.0</td>\n      <td>11.93</td>\n      <td>0.0</td>\n      <td>0.573</td>\n      <td>6.030</td>\n      <td>80.8</td>\n      <td>2.5050</td>\n      <td>1.0</td>\n      <td>273.0</td>\n      <td>21.0</td>\n      <td>7.88</td>\n      <td>11.9</td>\n      <td>70 years and older</td>\n    </tr>\n  </tbody>\n</table>\n<p>506 rows × 15 columns</p>\n</div>",
       "datasetInfos": [],
       "metadata": {},
       "removedWidgets": [],
       "textData": null,
       "type": "htmlSandbox"
      }
     },
     "output_type": "display_data"
    }
   ],
   "source": [
    "boston_df"
   ]
  },
  {
   "cell_type": "code",
   "execution_count": 0,
   "metadata": {
    "application/vnd.databricks.v1+cell": {
     "cellMetadata": {
      "byteLimit": 2048000,
      "rowLimit": 10000
     },
     "inputWidgets": {},
     "nuid": "26f5733d-c6ec-4d0e-98e7-5d1f4f9c8d26",
     "showTitle": false,
     "title": ""
    }
   },
   "outputs": [
    {
     "output_type": "display_data",
     "data": {
      "text/plain": [
       "\u001B[0;31m---------------------------------------------------------------------------\u001B[0m\n",
       "\u001B[0;31mTypeError\u001B[0m                                 Traceback (most recent call last)\n",
       "\u001B[0;32m<command-4327516620300148>\u001B[0m in \u001B[0;36m<cell line: 1>\u001B[0;34m()\u001B[0m\n",
       "\u001B[0;32m----> 1\u001B[0;31m \u001B[0mplt\u001B[0m\u001B[0;34m.\u001B[0m\u001B[0mtitle\u001B[0m\u001B[0;34m(\u001B[0m\u001B[0;34m'Relationship between Nitric oxide concentrations and the proportion of non-retail business acres per town'\u001B[0m\u001B[0;34m)\u001B[0m\u001B[0;34m\u001B[0m\u001B[0;34m\u001B[0m\u001B[0m\n",
       "\u001B[0m\u001B[1;32m      2\u001B[0m \u001B[0mplt\u001B[0m\u001B[0;34m.\u001B[0m\u001B[0mscatter\u001B[0m\u001B[0;34m(\u001B[0m\u001B[0mx\u001B[0m\u001B[0;34m=\u001B[0m\u001B[0mboston_df\u001B[0m\u001B[0;34m[\u001B[0m\u001B[0;34m'NOX'\u001B[0m\u001B[0;34m]\u001B[0m\u001B[0;34m,\u001B[0m \u001B[0my\u001B[0m\u001B[0;34m=\u001B[0m\u001B[0mboston_df\u001B[0m\u001B[0;34m[\u001B[0m\u001B[0;34m'INDUS'\u001B[0m\u001B[0;34m]\u001B[0m\u001B[0;34m)\u001B[0m\u001B[0;34m\u001B[0m\u001B[0;34m\u001B[0m\u001B[0m\n",
       "\n",
       "\u001B[0;31mTypeError\u001B[0m: 'str' object is not callable"
      ]
     },
     "metadata": {
      "application/vnd.databricks.v1+output": {
       "arguments": {},
       "data": "\u001B[0;31m---------------------------------------------------------------------------\u001B[0m\n\u001B[0;31mTypeError\u001B[0m                                 Traceback (most recent call last)\n\u001B[0;32m<command-4327516620300148>\u001B[0m in \u001B[0;36m<cell line: 1>\u001B[0;34m()\u001B[0m\n\u001B[0;32m----> 1\u001B[0;31m \u001B[0mplt\u001B[0m\u001B[0;34m.\u001B[0m\u001B[0mtitle\u001B[0m\u001B[0;34m(\u001B[0m\u001B[0;34m'Relationship between Nitric oxide concentrations and the proportion of non-retail business acres per town'\u001B[0m\u001B[0;34m)\u001B[0m\u001B[0;34m\u001B[0m\u001B[0;34m\u001B[0m\u001B[0m\n\u001B[0m\u001B[1;32m      2\u001B[0m \u001B[0mplt\u001B[0m\u001B[0;34m.\u001B[0m\u001B[0mscatter\u001B[0m\u001B[0;34m(\u001B[0m\u001B[0mx\u001B[0m\u001B[0;34m=\u001B[0m\u001B[0mboston_df\u001B[0m\u001B[0;34m[\u001B[0m\u001B[0;34m'NOX'\u001B[0m\u001B[0;34m]\u001B[0m\u001B[0;34m,\u001B[0m \u001B[0my\u001B[0m\u001B[0;34m=\u001B[0m\u001B[0mboston_df\u001B[0m\u001B[0;34m[\u001B[0m\u001B[0;34m'INDUS'\u001B[0m\u001B[0;34m]\u001B[0m\u001B[0;34m)\u001B[0m\u001B[0;34m\u001B[0m\u001B[0;34m\u001B[0m\u001B[0m\n\n\u001B[0;31mTypeError\u001B[0m: 'str' object is not callable",
       "errorSummary": "<span class='ansi-red-fg'>TypeError</span>: 'str' object is not callable",
       "errorTraceType": "ansi",
       "metadata": {},
       "type": "ipynbError"
      }
     },
     "output_type": "display_data"
    }
   ],
   "source": [
    "plt.title('Relationship between Nitric oxide concentrations and the proportion of non-retail business acres per town')\n",
    "plt.scatter(x=boston_df['NOX'], y=boston_df['INDUS'])"
   ]
  },
  {
   "cell_type": "code",
   "execution_count": 0,
   "metadata": {
    "application/vnd.databricks.v1+cell": {
     "cellMetadata": {
      "byteLimit": 2048000,
      "rowLimit": 10000
     },
     "inputWidgets": {},
     "nuid": "e1484ca0-649a-4f22-b732-78e0079d1917",
     "showTitle": false,
     "title": ""
    }
   },
   "outputs": [],
   "source": [
    "#there seems to be a correlation between Nitric oxide concentration an dthe proportion of non-retail business acres per town. As the proportion grows, so does the Nitric oxide concentration."
   ]
  },
  {
   "cell_type": "code",
   "execution_count": 0,
   "metadata": {
    "application/vnd.databricks.v1+cell": {
     "cellMetadata": {
      "byteLimit": 2048000,
      "rowLimit": 10000
     },
     "inputWidgets": {},
     "nuid": "f47a9056-d353-4842-971c-d195d0025ba2",
     "showTitle": false,
     "title": ""
    }
   },
   "outputs": [
    {
     "output_type": "stream",
     "name": "stdout",
     "output_type": "stream",
     "text": [
      "Out[62]: (array([  3.,  12.,   0.,   0.,   1.,   0.,   0.,   1.,  34.,   7.,   1.,\n         16.,   3.,   0.,  12.,   0.,   6.,  20.,   9.,   0.,  19.,   7.,\n         39.,   4.,  20.,  30.,   5.,  21.,  19.,   8.,   8.,   5., 140.,\n          0.,   0.,  38.,  16.,   0.,   0.,   2.]),\n array([12.6  , 12.835, 13.07 , 13.305, 13.54 , 13.775, 14.01 , 14.245,\n        14.48 , 14.715, 14.95 , 15.185, 15.42 , 15.655, 15.89 , 16.125,\n        16.36 , 16.595, 16.83 , 17.065, 17.3  , 17.535, 17.77 , 18.005,\n        18.24 , 18.475, 18.71 , 18.945, 19.18 , 19.415, 19.65 , 19.885,\n        20.12 , 20.355, 20.59 , 20.825, 21.06 , 21.295, 21.53 , 21.765,\n        22.   ]),\n <BarContainer object of 40 artists>)"
     ]
    },
    {
     "output_type": "display_data",
     "data": {
      "image/png": "[encoded data removed]"
     },
     "metadata": {
      "application/vnd.databricks.v1+output": {
       "addedWidgets": {},
       "arguments": {},
       "data": "data:image/png;base64,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\n",
       "datasetInfos": [],
       "metadata": {},
       "removedWidgets": [],
       "type": "image"
      }
     },
     "output_type": "display_data"
    }
   ],
   "source": [
    "plt.figure(figsize=(15,9))\n",
    "plt.title('Pupil to teacher ratio ')\n",
    "num_bins=40\n",
    "plt.hist(boston_df['PTRATIO'], num_bins,facecolor='blue')"
   ]
  },
  {
   "cell_type": "code",
   "execution_count": 0,
   "metadata": {
    "application/vnd.databricks.v1+cell": {
     "cellMetadata": {
      "byteLimit": 2048000,
      "rowLimit": 10000
     },
     "inputWidgets": {},
     "nuid": "5abbbc18-5f06-43c4-b8ff-239e5cce6932",
     "showTitle": false,
     "title": ""
    }
   },
   "outputs": [
    {
     "output_type": "stream",
     "name": "stdout",
     "output_type": "stream",
     "text": [
      "Out[63]: 0      24.0\n1      21.6\n2      34.7\n3      33.4\n4      36.2\n       ... \n501    22.4\n502    20.6\n503    23.9\n504    22.0\n505    11.9\nName: MEDV, Length: 471, dtype: float64"
     ]
    }
   ],
   "source": [
    "boston_df[boston_df['CHAS']==0]['MEDV']"
   ]
  },
  {
   "cell_type": "code",
   "execution_count": 0,
   "metadata": {
    "application/vnd.databricks.v1+cell": {
     "cellMetadata": {
      "byteLimit": 2048000,
      "rowLimit": 10000
     },
     "inputWidgets": {},
     "nuid": "835f3888-067b-4e39-a2c9-07e4c3b15268",
     "showTitle": false,
     "title": ""
    }
   },
   "outputs": [
    {
     "output_type": "stream",
     "name": "stdout",
     "output_type": "stream",
     "text": [
      "Out[55]: Ttest_indResult(statistic=-3.996437466090509, pvalue=7.390623170519905e-05)"
     ]
    }
   ],
   "source": [
    "#Is there a significant difference in median value of houses bounded by the Charles river or not? (T-test for independent samples) \n",
    "\n",
    "#Null hupothesis : μ1 = μ2\n",
    "#Alternative hypothesis : μ1 ≠ μ2 with Alpha level = 0,05\n",
    "\n",
    "scipy.stats.ttest_ind(boston_df[boston_df['CHAS']==0]['MEDV'],boston_df[boston_df['CHAS']==1]['MEDV'], equal_var=True)"
   ]
  },
  {
   "cell_type": "code",
   "execution_count": 0,
   "metadata": {
    "application/vnd.databricks.v1+cell": {
     "cellMetadata": {},
     "inputWidgets": {},
     "nuid": "97fe3068-6195-44c5-878e-538fc6224734",
     "showTitle": false,
     "title": ""
    }
   },
   "outputs": [],
   "source": [
    "#Since the p-value is lower than the alpha level we reject the null hypotesis. Means are not equal.\n",
    "#We can assume that the Charles River variable in an explanatory variable of the Median value of houses."
   ]
  },
  {
   "cell_type": "code",
   "execution_count": 0,
   "metadata": {
    "application/vnd.databricks.v1+cell": {
     "cellMetadata": {
      "byteLimit": 2048000,
      "rowLimit": 10000
     },
     "inputWidgets": {},
     "nuid": "31fb5726-8ee1-4ced-a32d-81cfbb685dd0",
     "showTitle": false,
     "title": ""
    }
   },
   "outputs": [
    {
     "output_type": "stream",
     "name": "stdout",
     "output_type": "stream",
     "text": [
      "f_statistic:110.2613723305728,P_value:1.9683840083822383e-45\n"
     ]
    }
   ],
   "source": [
    "#Is there a difference in Median values of houses (MEDV) for each proportion of owner occupied units built prior to 1940 (AGE)? (ANOVA)\n",
    "#group samples\n",
    "group1=boston_df['age_group']=='35 years and younger'\n",
    "group2=boston_df['age_group']=='between 35 and 70'\n",
    "group3=boston_df['age_group']=='70 years and older'\n",
    "\n",
    "f_statistic, p_value=scipy.stats.f_oneway(group1, group2, group3)\n",
    "print('f_statistic:{0},P_value:{1}'.format(f_statistic,p_value))"
   ]
  },
  {
   "cell_type": "code",
   "execution_count": 0,
   "metadata": {
    "application/vnd.databricks.v1+cell": {
     "cellMetadata": {},
     "inputWidgets": {},
     "nuid": "247e9f9f-028b-4d1c-9684-fd56e61d28aa",
     "showTitle": false,
     "title": ""
    }
   },
   "outputs": [],
   "source": [
    "#We reject the null hypothesis that difference in means are equal.\n",
    "#There is statistical difference between age groups."
   ]
  },
  {
   "cell_type": "code",
   "execution_count": 0,
   "metadata": {
    "application/vnd.databricks.v1+cell": {
     "cellMetadata": {
      "byteLimit": 2048000,
      "rowLimit": 10000
     },
     "inputWidgets": {},
     "nuid": "1c9d2531-b269-494f-bcbd-07e1376e6c82",
     "showTitle": false,
     "title": ""
    }
   },
   "outputs": [
    {
     "output_type": "stream",
     "name": "stdout",
     "output_type": "stream",
     "text": [
      "Out[66]: (0.7636514469209151, 7.913361061238693e-98)"
     ]
    }
   ],
   "source": [
    "#Can we conclude that there is no relationship between Nitric oxide concentrations and proportion of non-retail business acres per town? (Pearson Correlation)\n",
    "#Run Pearson Correlation test\n",
    "scipy.stats.pearsonr(boston_df['NOX'],boston_df['INDUS'])"
   ]
  },
  {
   "cell_type": "code",
   "execution_count": 0,
   "metadata": {
    "application/vnd.databricks.v1+cell": {
     "cellMetadata": {},
     "inputWidgets": {},
     "nuid": "8edddcf9-d533-4787-997b-6c692e6707c5",
     "showTitle": false,
     "title": ""
    }
   },
   "outputs": [],
   "source": [
    "#Since the p-value is lower than 0,05 and the correlation coefficient is close to 0.8, we reject the null hypothesis and conclude that there exist a pretty strong relationship between Nitric oxide concentration and proportion of non-retail business acres per town."
   ]
  },
  {
   "cell_type": "code",
   "execution_count": 0,
   "metadata": {
    "application/vnd.databricks.v1+cell": {
     "cellMetadata": {
      "byteLimit": 2048000,
      "rowLimit": 10000
     },
     "inputWidgets": {},
     "nuid": "f46bb254-4407-4f7e-a9c8-f0ecc1d8b768",
     "showTitle": false,
     "title": ""
    }
   },
   "outputs": [
    {
     "output_type": "stream",
     "name": "stdout",
     "output_type": "stream",
     "text": [
      "/databricks/python/lib/python3.9/site-packages/statsmodels/tsa/tsatools.py:142: FutureWarning: In a future version of pandas all arguments of concat except for the argument 'objs' will be keyword-only\n  x = pd.concat(x[::order], 1)\n"
     ]
    },
    {
     "output_type": "display_data",
     "data": {
      "text/html": [
       "<table class=\"simpletable\">\n",
       "<caption>OLS Regression Results</caption>\n",
       "<tr>\n",
       "  <th>Dep. Variable:</th>           <td>DIS</td>       <th>  R-squared:         </th> <td>   0.062</td>\n",
       "</tr>\n",
       "<tr>\n",
       "  <th>Model:</th>                   <td>OLS</td>       <th>  Adj. R-squared:    </th> <td>   0.061</td>\n",
       "</tr>\n",
       "<tr>\n",
       "  <th>Method:</th>             <td>Least Squares</td>  <th>  F-statistic:       </th> <td>   33.58</td>\n",
       "</tr>\n",
       "<tr>\n",
       "  <th>Date:</th>             <td>Mon, 10 Jul 2023</td> <th>  Prob (F-statistic):</th> <td>1.21e-08</td>\n",
       "</tr>\n",
       "<tr>\n",
       "  <th>Time:</th>                 <td>13:51:43</td>     <th>  Log-Likelihood:    </th> <td> -1078.0</td>\n",
       "</tr>\n",
       "<tr>\n",
       "  <th>No. Observations:</th>      <td>   506</td>      <th>  AIC:               </th> <td>   2160.</td>\n",
       "</tr>\n",
       "<tr>\n",
       "  <th>Df Residuals:</th>          <td>   504</td>      <th>  BIC:               </th> <td>   2168.</td>\n",
       "</tr>\n",
       "<tr>\n",
       "  <th>Df Model:</th>              <td>     1</td>      <th>                     </th>     <td> </td>   \n",
       "</tr>\n",
       "<tr>\n",
       "  <th>Covariance Type:</th>      <td>nonrobust</td>    <th>                     </th>     <td> </td>   \n",
       "</tr>\n",
       "</table>\n",
       "<table class=\"simpletable\">\n",
       "<tr>\n",
       "    <td></td>       <th>coef</th>     <th>std err</th>      <th>t</th>      <th>P>|t|</th>  <th>[0.025</th>    <th>0.975]</th>  \n",
       "</tr>\n",
       "<tr>\n",
       "  <th>const</th> <td>    2.5057</td> <td>    0.240</td> <td>   10.428</td> <td> 0.000</td> <td>    2.034</td> <td>    2.978</td>\n",
       "</tr>\n",
       "<tr>\n",
       "  <th>MEDV</th>  <td>    0.0572</td> <td>    0.010</td> <td>    5.795</td> <td> 0.000</td> <td>    0.038</td> <td>    0.077</td>\n",
       "</tr>\n",
       "</table>\n",
       "<table class=\"simpletable\">\n",
       "<tr>\n",
       "  <th>Omnibus:</th>       <td>70.837</td> <th>  Durbin-Watson:     </th> <td>   0.138</td>\n",
       "</tr>\n",
       "<tr>\n",
       "  <th>Prob(Omnibus):</th> <td> 0.000</td> <th>  Jarque-Bera (JB):  </th> <td>  98.167</td>\n",
       "</tr>\n",
       "<tr>\n",
       "  <th>Skew:</th>          <td> 1.000</td> <th>  Prob(JB):          </th> <td>4.82e-22</td>\n",
       "</tr>\n",
       "<tr>\n",
       "  <th>Kurtosis:</th>      <td> 3.809</td> <th>  Cond. No.          </th> <td>    64.5</td>\n",
       "</tr>\n",
       "</table><br/><br/>Notes:<br/>[1] Standard Errors assume that the covariance matrix of the errors is correctly specified."
      ]
     },
     "metadata": {
      "application/vnd.databricks.v1+output": {
       "addedWidgets": {},
       "arguments": {},
       "data": "<table class=\"simpletable\">\n<caption>OLS Regression Results</caption>\n<tr>\n  <th>Dep. Variable:</th>           <td>DIS</td>       <th>  R-squared:         </th> <td>   0.062</td>\n</tr>\n<tr>\n  <th>Model:</th>                   <td>OLS</td>       <th>  Adj. R-squared:    </th> <td>   0.061</td>\n</tr>\n<tr>\n  <th>Method:</th>             <td>Least Squares</td>  <th>  F-statistic:       </th> <td>   33.58</td>\n</tr>\n<tr>\n  <th>Date:</th>             <td>Mon, 10 Jul 2023</td> <th>  Prob (F-statistic):</th> <td>1.21e-08</td>\n</tr>\n<tr>\n  <th>Time:</th>                 <td>13:51:43</td>     <th>  Log-Likelihood:    </th> <td> -1078.0</td>\n</tr>\n<tr>\n  <th>No. Observations:</th>      <td>   506</td>      <th>  AIC:               </th> <td>   2160.</td>\n</tr>\n<tr>\n  <th>Df Residuals:</th>          <td>   504</td>      <th>  BIC:               </th> <td>   2168.</td>\n</tr>\n<tr>\n  <th>Df Model:</th>              <td>     1</td>      <th>                     </th>     <td> </td>   \n</tr>\n<tr>\n  <th>Covariance Type:</th>      <td>nonrobust</td>    <th>                     </th>     <td> </td>   \n</tr>\n</table>\n<table class=\"simpletable\">\n<tr>\n    <td></td>       <th>coef</th>     <th>std err</th>      <th>t</th>      <th>P>|t|</th>  <th>[0.025</th>    <th>0.975]</th>  \n</tr>\n<tr>\n  <th>const</th> <td>    2.5057</td> <td>    0.240</td> <td>   10.428</td> <td> 0.000</td> <td>    2.034</td> <td>    2.978</td>\n</tr>\n<tr>\n  <th>MEDV</th>  <td>    0.0572</td> <td>    0.010</td> <td>    5.795</td> <td> 0.000</td> <td>    0.038</td> <td>    0.077</td>\n</tr>\n</table>\n<table class=\"simpletable\">\n<tr>\n  <th>Omnibus:</th>       <td>70.837</td> <th>  Durbin-Watson:     </th> <td>   0.138</td>\n</tr>\n<tr>\n  <th>Prob(Omnibus):</th> <td> 0.000</td> <th>  Jarque-Bera (JB):  </th> <td>  98.167</td>\n</tr>\n<tr>\n  <th>Skew:</th>          <td> 1.000</td> <th>  Prob(JB):          </th> <td>4.82e-22</td>\n</tr>\n<tr>\n  <th>Kurtosis:</th>      <td> 3.809</td> <th>  Cond. No.          </th> <td>    64.5</td>\n</tr>\n</table><br/><br/>Notes:<br/>[1] Standard Errors assume that the covariance matrix of the errors is correctly specified.",
       "datasetInfos": [],
       "metadata": {},
       "removedWidgets": [],
       "textData": null,
       "type": "htmlSandbox"
      }
     },
     "output_type": "display_data"
    }
   ],
   "source": [
    "#What is the impact of an additional weighted distance  to the five Boston employment centres on the median value of owner occupied homes? (Regression analysis)\n",
    "X=boston_df['MEDV']\n",
    "y=boston_df['DIS']\n",
    "X=sm.add_constant(X)\n",
    "\n",
    "model=sm.OLS(y,X).fit()\n",
    "predictions=model.predict(X)\n",
    "\n",
    "model.summary()"
   ]
  },
  {
   "cell_type": "code",
   "execution_count": 0,
   "metadata": {
    "application/vnd.databricks.v1+cell": {
     "cellMetadata": {},
     "inputWidgets": {},
     "nuid": "17d0d867-25d7-49c5-89ff-0a73b7bef9a3",
     "showTitle": false,
     "title": ""
    }
   },
   "outputs": [],
   "source": [
    "#Since the p-value is lower than 0,05 we reject the null hypothesis and conclude that there exist a relationship between the five Boston employment centres and the median value of owner occupied homes."
   ]
  }
 ],
 "metadata": {
  "application/vnd.databricks.v1+notebook": {
   "dashboards": [],
   "language": "python",
   "notebookMetadata": {
    "pythonIndentUnit": 4
   },
   "notebookName": "StudentName_ibmStats",
   "widgets": {}
  }
 },
 "nbformat": 4,
 "nbformat_minor": 0
}
