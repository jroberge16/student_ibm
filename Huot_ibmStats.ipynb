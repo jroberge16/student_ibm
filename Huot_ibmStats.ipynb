{
 "cells": [
  {
   "cell_type": "markdown",
   "metadata": {
    "application/vnd.databricks.v1+cell": {
     "cellMetadata": {
      "byteLimit": 2048000,
      "rowLimit": 10000
     },
     "inputWidgets": {},
     "nuid": "a36ecb13-46f6-40a9-a5f3-5ab213419644",
     "showTitle": false,
     "title": ""
    }
   },
   "source": [
    "<p style=\"text-align:center\">\n",
    "    <a href=\"https://skills.network/?utm_medium=Exinfluencer&utm_source=Exinfluencer&utm_content=000026UJ&utm_term=10006555&utm_id=NA-SkillsNetwork-Channel-SkillsNetworkCoursesIBMDeveloperSkillsNetworkST0151ENSkillsNetwork20531532-2022-01-01\" target=\"_blank\">\n",
    "    <img src=\"https://cf-courses-data.s3.us.cloud-object-storage.appdomain.cloud/assets/logos/SN_web_lightmode.png\" width=\"200\" alt=\"Skills Network Logo\"  />\n",
    "    </a>\n",
    "</p>"
   ]
  },
  {
   "cell_type": "markdown",
   "metadata": {
    "application/vnd.databricks.v1+cell": {
     "cellMetadata": {
      "byteLimit": 2048000,
      "rowLimit": 10000
     },
     "inputWidgets": {},
     "nuid": "777938f7-ef71-451a-b5eb-9d3da24f5d06",
     "showTitle": false,
     "title": ""
    }
   },
   "source": [
    "#### Import the required libraries we need for the lab."
   ]
  },
  {
   "cell_type": "code",
   "execution_count": 0,
   "metadata": {
    "application/vnd.databricks.v1+cell": {
     "cellMetadata": {
      "byteLimit": 2048000,
      "rowLimit": 10000
     },
     "inputWidgets": {},
     "nuid": "2837fa26-aca4-4a34-9a3e-66f4b794dd7b",
     "showTitle": false,
     "title": ""
    }
   },
   "outputs": [],
   "source": [
    "import pandas as pd\n",
    "import pandas as pd\n",
    "import seaborn as sns\n",
    "import matplotlib.pyplot as pyplot\n",
    "import scipy.stats\n",
    "import statsmodels.api as sm\n",
    "from statsmodels.formula.api import ols\n",
    "from matplotlib import pyplot as plt"
   ]
  },
  {
   "cell_type": "markdown",
   "metadata": {
    "application/vnd.databricks.v1+cell": {
     "cellMetadata": {
      "byteLimit": 2048000,
      "rowLimit": 10000
     },
     "inputWidgets": {},
     "nuid": "669f2f0c-a9f8-423b-ba7e-ee3d29e2e6ac",
     "showTitle": false,
     "title": ""
    }
   },
   "source": [
    "#### Read the dataset in the csv file from the URL"
   ]
  },
  {
   "cell_type": "code",
   "execution_count": 0,
   "metadata": {
    "application/vnd.databricks.v1+cell": {
     "cellMetadata": {
      "byteLimit": 2048000,
      "rowLimit": 10000
     },
     "inputWidgets": {},
     "nuid": "2270bc22-796e-4d5b-bcd6-a8971a95609f",
     "showTitle": false,
     "title": ""
    }
   },
   "outputs": [
    {
     "output_type": "display_data",
     "data": {
      "text/html": [
       "<div>\n",
       "<style scoped>\n",
       "    .dataframe tbody tr th:only-of-type {\n",
       "        vertical-align: middle;\n",
       "    }\n",
       "\n",
       "    .dataframe tbody tr th {\n",
       "        vertical-align: top;\n",
       "    }\n",
       "\n",
       "    .dataframe thead th {\n",
       "        text-align: right;\n",
       "    }\n",
       "</style>\n",
       "<table border=\"1\" class=\"dataframe\">\n",
       "  <thead>\n",
       "    <tr style=\"text-align: right;\">\n",
       "      <th></th>\n",
       "      <th>Unnamed: 0</th>\n",
       "      <th>CRIM</th>\n",
       "      <th>ZN</th>\n",
       "      <th>INDUS</th>\n",
       "      <th>CHAS</th>\n",
       "      <th>NOX</th>\n",
       "      <th>RM</th>\n",
       "      <th>AGE</th>\n",
       "      <th>DIS</th>\n",
       "      <th>RAD</th>\n",
       "      <th>TAX</th>\n",
       "      <th>PTRATIO</th>\n",
       "      <th>LSTAT</th>\n",
       "      <th>MEDV</th>\n",
       "    </tr>\n",
       "  </thead>\n",
       "  <tbody>\n",
       "    <tr>\n",
       "      <th>0</th>\n",
       "      <td>0</td>\n",
       "      <td>0.00632</td>\n",
       "      <td>18.0</td>\n",
       "      <td>2.31</td>\n",
       "      <td>0.0</td>\n",
       "      <td>0.538</td>\n",
       "      <td>6.575</td>\n",
       "      <td>65.2</td>\n",
       "      <td>4.0900</td>\n",
       "      <td>1.0</td>\n",
       "      <td>296.0</td>\n",
       "      <td>15.3</td>\n",
       "      <td>4.98</td>\n",
       "      <td>24.0</td>\n",
       "    </tr>\n",
       "    <tr>\n",
       "      <th>1</th>\n",
       "      <td>1</td>\n",
       "      <td>0.02731</td>\n",
       "      <td>0.0</td>\n",
       "      <td>7.07</td>\n",
       "      <td>0.0</td>\n",
       "      <td>0.469</td>\n",
       "      <td>6.421</td>\n",
       "      <td>78.9</td>\n",
       "      <td>4.9671</td>\n",
       "      <td>2.0</td>\n",
       "      <td>242.0</td>\n",
       "      <td>17.8</td>\n",
       "      <td>9.14</td>\n",
       "      <td>21.6</td>\n",
       "    </tr>\n",
       "    <tr>\n",
       "      <th>2</th>\n",
       "      <td>2</td>\n",
       "      <td>0.02729</td>\n",
       "      <td>0.0</td>\n",
       "      <td>7.07</td>\n",
       "      <td>0.0</td>\n",
       "      <td>0.469</td>\n",
       "      <td>7.185</td>\n",
       "      <td>61.1</td>\n",
       "      <td>4.9671</td>\n",
       "      <td>2.0</td>\n",
       "      <td>242.0</td>\n",
       "      <td>17.8</td>\n",
       "      <td>4.03</td>\n",
       "      <td>34.7</td>\n",
       "    </tr>\n",
       "    <tr>\n",
       "      <th>3</th>\n",
       "      <td>3</td>\n",
       "      <td>0.03237</td>\n",
       "      <td>0.0</td>\n",
       "      <td>2.18</td>\n",
       "      <td>0.0</td>\n",
       "      <td>0.458</td>\n",
       "      <td>6.998</td>\n",
       "      <td>45.8</td>\n",
       "      <td>6.0622</td>\n",
       "      <td>3.0</td>\n",
       "      <td>222.0</td>\n",
       "      <td>18.7</td>\n",
       "      <td>2.94</td>\n",
       "      <td>33.4</td>\n",
       "    </tr>\n",
       "    <tr>\n",
       "      <th>4</th>\n",
       "      <td>4</td>\n",
       "      <td>0.06905</td>\n",
       "      <td>0.0</td>\n",
       "      <td>2.18</td>\n",
       "      <td>0.0</td>\n",
       "      <td>0.458</td>\n",
       "      <td>7.147</td>\n",
       "      <td>54.2</td>\n",
       "      <td>6.0622</td>\n",
       "      <td>3.0</td>\n",
       "      <td>222.0</td>\n",
       "      <td>18.7</td>\n",
       "      <td>5.33</td>\n",
       "      <td>36.2</td>\n",
       "    </tr>\n",
       "    <tr>\n",
       "      <th>...</th>\n",
       "      <td>...</td>\n",
       "      <td>...</td>\n",
       "      <td>...</td>\n",
       "      <td>...</td>\n",
       "      <td>...</td>\n",
       "      <td>...</td>\n",
       "      <td>...</td>\n",
       "      <td>...</td>\n",
       "      <td>...</td>\n",
       "      <td>...</td>\n",
       "      <td>...</td>\n",
       "      <td>...</td>\n",
       "      <td>...</td>\n",
       "      <td>...</td>\n",
       "    </tr>\n",
       "    <tr>\n",
       "      <th>501</th>\n",
       "      <td>501</td>\n",
       "      <td>0.06263</td>\n",
       "      <td>0.0</td>\n",
       "      <td>11.93</td>\n",
       "      <td>0.0</td>\n",
       "      <td>0.573</td>\n",
       "      <td>6.593</td>\n",
       "      <td>69.1</td>\n",
       "      <td>2.4786</td>\n",
       "      <td>1.0</td>\n",
       "      <td>273.0</td>\n",
       "      <td>21.0</td>\n",
       "      <td>9.67</td>\n",
       "      <td>22.4</td>\n",
       "    </tr>\n",
       "    <tr>\n",
       "      <th>502</th>\n",
       "      <td>502</td>\n",
       "      <td>0.04527</td>\n",
       "      <td>0.0</td>\n",
       "      <td>11.93</td>\n",
       "      <td>0.0</td>\n",
       "      <td>0.573</td>\n",
       "      <td>6.120</td>\n",
       "      <td>76.7</td>\n",
       "      <td>2.2875</td>\n",
       "      <td>1.0</td>\n",
       "      <td>273.0</td>\n",
       "      <td>21.0</td>\n",
       "      <td>9.08</td>\n",
       "      <td>20.6</td>\n",
       "    </tr>\n",
       "    <tr>\n",
       "      <th>503</th>\n",
       "      <td>503</td>\n",
       "      <td>0.06076</td>\n",
       "      <td>0.0</td>\n",
       "      <td>11.93</td>\n",
       "      <td>0.0</td>\n",
       "      <td>0.573</td>\n",
       "      <td>6.976</td>\n",
       "      <td>91.0</td>\n",
       "      <td>2.1675</td>\n",
       "      <td>1.0</td>\n",
       "      <td>273.0</td>\n",
       "      <td>21.0</td>\n",
       "      <td>5.64</td>\n",
       "      <td>23.9</td>\n",
       "    </tr>\n",
       "    <tr>\n",
       "      <th>504</th>\n",
       "      <td>504</td>\n",
       "      <td>0.10959</td>\n",
       "      <td>0.0</td>\n",
       "      <td>11.93</td>\n",
       "      <td>0.0</td>\n",
       "      <td>0.573</td>\n",
       "      <td>6.794</td>\n",
       "      <td>89.3</td>\n",
       "      <td>2.3889</td>\n",
       "      <td>1.0</td>\n",
       "      <td>273.0</td>\n",
       "      <td>21.0</td>\n",
       "      <td>6.48</td>\n",
       "      <td>22.0</td>\n",
       "    </tr>\n",
       "    <tr>\n",
       "      <th>505</th>\n",
       "      <td>505</td>\n",
       "      <td>0.04741</td>\n",
       "      <td>0.0</td>\n",
       "      <td>11.93</td>\n",
       "      <td>0.0</td>\n",
       "      <td>0.573</td>\n",
       "      <td>6.030</td>\n",
       "      <td>80.8</td>\n",
       "      <td>2.5050</td>\n",
       "      <td>1.0</td>\n",
       "      <td>273.0</td>\n",
       "      <td>21.0</td>\n",
       "      <td>7.88</td>\n",
       "      <td>11.9</td>\n",
       "    </tr>\n",
       "  </tbody>\n",
       "</table>\n",
       "<p>506 rows × 14 columns</p>\n",
       "</div>"
      ]
     },
     "metadata": {
      "application/vnd.databricks.v1+output": {
       "addedWidgets": {},
       "arguments": {},
       "data": "<div>\n<style scoped>\n    .dataframe tbody tr th:only-of-type {\n        vertical-align: middle;\n    }\n\n    .dataframe tbody tr th {\n        vertical-align: top;\n    }\n\n    .dataframe thead th {\n        text-align: right;\n    }\n</style>\n<table border=\"1\" class=\"dataframe\">\n  <thead>\n    <tr style=\"text-align: right;\">\n      <th></th>\n      <th>Unnamed: 0</th>\n      <th>CRIM</th>\n      <th>ZN</th>\n      <th>INDUS</th>\n      <th>CHAS</th>\n      <th>NOX</th>\n      <th>RM</th>\n      <th>AGE</th>\n      <th>DIS</th>\n      <th>RAD</th>\n      <th>TAX</th>\n      <th>PTRATIO</th>\n      <th>LSTAT</th>\n      <th>MEDV</th>\n    </tr>\n  </thead>\n  <tbody>\n    <tr>\n      <th>0</th>\n      <td>0</td>\n      <td>0.00632</td>\n      <td>18.0</td>\n      <td>2.31</td>\n      <td>0.0</td>\n      <td>0.538</td>\n      <td>6.575</td>\n      <td>65.2</td>\n      <td>4.0900</td>\n      <td>1.0</td>\n      <td>296.0</td>\n      <td>15.3</td>\n      <td>4.98</td>\n      <td>24.0</td>\n    </tr>\n    <tr>\n      <th>1</th>\n      <td>1</td>\n      <td>0.02731</td>\n      <td>0.0</td>\n      <td>7.07</td>\n      <td>0.0</td>\n      <td>0.469</td>\n      <td>6.421</td>\n      <td>78.9</td>\n      <td>4.9671</td>\n      <td>2.0</td>\n      <td>242.0</td>\n      <td>17.8</td>\n      <td>9.14</td>\n      <td>21.6</td>\n    </tr>\n    <tr>\n      <th>2</th>\n      <td>2</td>\n      <td>0.02729</td>\n      <td>0.0</td>\n      <td>7.07</td>\n      <td>0.0</td>\n      <td>0.469</td>\n      <td>7.185</td>\n      <td>61.1</td>\n      <td>4.9671</td>\n      <td>2.0</td>\n      <td>242.0</td>\n      <td>17.8</td>\n      <td>4.03</td>\n      <td>34.7</td>\n    </tr>\n    <tr>\n      <th>3</th>\n      <td>3</td>\n      <td>0.03237</td>\n      <td>0.0</td>\n      <td>2.18</td>\n      <td>0.0</td>\n      <td>0.458</td>\n      <td>6.998</td>\n      <td>45.8</td>\n      <td>6.0622</td>\n      <td>3.0</td>\n      <td>222.0</td>\n      <td>18.7</td>\n      <td>2.94</td>\n      <td>33.4</td>\n    </tr>\n    <tr>\n      <th>4</th>\n      <td>4</td>\n      <td>0.06905</td>\n      <td>0.0</td>\n      <td>2.18</td>\n      <td>0.0</td>\n      <td>0.458</td>\n      <td>7.147</td>\n      <td>54.2</td>\n      <td>6.0622</td>\n      <td>3.0</td>\n      <td>222.0</td>\n      <td>18.7</td>\n      <td>5.33</td>\n      <td>36.2</td>\n    </tr>\n    <tr>\n      <th>...</th>\n      <td>...</td>\n      <td>...</td>\n      <td>...</td>\n      <td>...</td>\n      <td>...</td>\n      <td>...</td>\n      <td>...</td>\n      <td>...</td>\n      <td>...</td>\n      <td>...</td>\n      <td>...</td>\n      <td>...</td>\n      <td>...</td>\n      <td>...</td>\n    </tr>\n    <tr>\n      <th>501</th>\n      <td>501</td>\n      <td>0.06263</td>\n      <td>0.0</td>\n      <td>11.93</td>\n      <td>0.0</td>\n      <td>0.573</td>\n      <td>6.593</td>\n      <td>69.1</td>\n      <td>2.4786</td>\n      <td>1.0</td>\n      <td>273.0</td>\n      <td>21.0</td>\n      <td>9.67</td>\n      <td>22.4</td>\n    </tr>\n    <tr>\n      <th>502</th>\n      <td>502</td>\n      <td>0.04527</td>\n      <td>0.0</td>\n      <td>11.93</td>\n      <td>0.0</td>\n      <td>0.573</td>\n      <td>6.120</td>\n      <td>76.7</td>\n      <td>2.2875</td>\n      <td>1.0</td>\n      <td>273.0</td>\n      <td>21.0</td>\n      <td>9.08</td>\n      <td>20.6</td>\n    </tr>\n    <tr>\n      <th>503</th>\n      <td>503</td>\n      <td>0.06076</td>\n      <td>0.0</td>\n      <td>11.93</td>\n      <td>0.0</td>\n      <td>0.573</td>\n      <td>6.976</td>\n      <td>91.0</td>\n      <td>2.1675</td>\n      <td>1.0</td>\n      <td>273.0</td>\n      <td>21.0</td>\n      <td>5.64</td>\n      <td>23.9</td>\n    </tr>\n    <tr>\n      <th>504</th>\n      <td>504</td>\n      <td>0.10959</td>\n      <td>0.0</td>\n      <td>11.93</td>\n      <td>0.0</td>\n      <td>0.573</td>\n      <td>6.794</td>\n      <td>89.3</td>\n      <td>2.3889</td>\n      <td>1.0</td>\n      <td>273.0</td>\n      <td>21.0</td>\n      <td>6.48</td>\n      <td>22.0</td>\n    </tr>\n    <tr>\n      <th>505</th>\n      <td>505</td>\n      <td>0.04741</td>\n      <td>0.0</td>\n      <td>11.93</td>\n      <td>0.0</td>\n      <td>0.573</td>\n      <td>6.030</td>\n      <td>80.8</td>\n      <td>2.5050</td>\n      <td>1.0</td>\n      <td>273.0</td>\n      <td>21.0</td>\n      <td>7.88</td>\n      <td>11.9</td>\n    </tr>\n  </tbody>\n</table>\n<p>506 rows × 14 columns</p>\n</div>",
       "datasetInfos": [],
       "metadata": {},
       "removedWidgets": [],
       "textData": null,
       "type": "htmlSandbox"
      }
     },
     "output_type": "display_data"
    }
   ],
   "source": [
    "import pandas as pd\n",
    "boston_df=pd.read_csv(\"/dbfs/mnt/dcdp2023/Data/boston_housing.csv\")\n",
    "boston_df"
   ]
  },
  {
   "cell_type": "code",
   "execution_count": 0,
   "metadata": {
    "application/vnd.databricks.v1+cell": {
     "cellMetadata": {
      "byteLimit": 2048000,
      "rowLimit": 10000
     },
     "inputWidgets": {},
     "nuid": "792f55f1-bf4e-4340-a95b-ac3f1566f18c",
     "showTitle": false,
     "title": ""
    }
   },
   "outputs": [
    {
     "output_type": "display_data",
     "data": {
      "image/png": "[encoded data removed]"
     },
     "metadata": {
      "application/vnd.databricks.v1+output": {
       "addedWidgets": {},
       "arguments": {},
       "data": "data:image/png;base64,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\n",
       "datasetInfos": [],
       "metadata": {},
       "removedWidgets": [],
       "type": "image"
      }
     },
     "output_type": "display_data"
    }
   ],
   "source": [
    "# figure size\n",
    "\n",
    "fig = plt.figure(figsize =(10, 7))\n",
    "\n",
    "# Creating plot\n",
    "plt.boxplot(boston_df['MEDV'])\n",
    "\n",
    "\n",
    "# show plot\n",
    "plt.show()"
   ]
  },
  {
   "cell_type": "code",
   "execution_count": 0,
   "metadata": {
    "application/vnd.databricks.v1+cell": {
     "cellMetadata": {
      "byteLimit": 2048000,
      "rowLimit": 10000
     },
     "inputWidgets": {},
     "nuid": "eab037ec-e732-45d7-ad0b-127d405646d0",
     "showTitle": false,
     "title": ""
    }
   },
   "outputs": [
    {
     "output_type": "stream",
     "name": "stdout",
     "output_type": "stream",
     "text": [
      "Out[39]: <AxesSubplot:xlabel='CHAS', ylabel='count'>"
     ]
    },
    {
     "output_type": "display_data",
     "data": {
      "image/png": "[encoded data removed]"
     },
     "metadata": {
      "application/vnd.databricks.v1+output": {
       "addedWidgets": {},
       "arguments": {},
       "data": "data:image/png;base64,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\n",
       "datasetInfos": [],
       "metadata": {},
       "removedWidgets": [],
       "type": "image"
      }
     },
     "output_type": "display_data"
    }
   ],
   "source": [
    "sns.set_theme(style=\"whitegrid\")\n",
    "sns.countplot(x=boston_df['CHAS'])"
   ]
  },
  {
   "cell_type": "code",
   "execution_count": 0,
   "metadata": {
    "application/vnd.databricks.v1+cell": {
     "cellMetadata": {
      "byteLimit": 2048000,
      "rowLimit": 10000
     },
     "inputWidgets": {},
     "nuid": "6905902d-6847-4a4d-9799-95c344b7abff",
     "showTitle": false,
     "title": ""
    }
   },
   "outputs": [
    {
     "output_type": "display_data",
     "data": {
      "image/png": "[encoded data removed]"
     },
     "metadata": {
      "application/vnd.databricks.v1+output": {
       "addedWidgets": {},
       "arguments": {},
       "data": "data:image/png;base64,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\n",
       "datasetInfos": [],
       "metadata": {},
       "removedWidgets": [],
       "type": "image"
      }
     },
     "output_type": "display_data"
    }
   ],
   "source": [
    "#group by age\n",
    "boston_df.loc[(boston_df['AGE']<=35),'age_group']='35 years and younger'\n",
    "boston_df.loc[(boston_df['AGE']>35)&(boston_df['AGE']<70), 'age_group']='between 35 and 70'\n",
    "boston_df.loc[(boston_df['AGE']>=70), 'age_group']='70 years and older'\n",
    "\n",
    "ax=plt.figure(figsize=(15,10))\n",
    "ax=sns.boxplot(x='age_group', y='MEDV',data=boston_df)"
   ]
  },
  {
   "cell_type": "code",
   "execution_count": 0,
   "metadata": {
    "application/vnd.databricks.v1+cell": {
     "cellMetadata": {
      "byteLimit": 2048000,
      "rowLimit": 10000
     },
     "inputWidgets": {},
     "nuid": "7c06c592-7929-4a62-a82d-bd9276b29db8",
     "showTitle": false,
     "title": ""
    }
   },
   "outputs": [
    {
     "output_type": "display_data",
     "data": {
      "text/html": [
       "<div>\n",
       "<style scoped>\n",
       "    .dataframe tbody tr th:only-of-type {\n",
       "        vertical-align: middle;\n",
       "    }\n",
       "\n",
       "    .dataframe tbody tr th {\n",
       "        vertical-align: top;\n",
       "    }\n",
       "\n",
       "    .dataframe thead th {\n",
       "        text-align: right;\n",
       "    }\n",
       "</style>\n",
       "<table border=\"1\" class=\"dataframe\">\n",
       "  <thead>\n",
       "    <tr style=\"text-align: right;\">\n",
       "      <th></th>\n",
       "      <th>Unnamed: 0</th>\n",
       "      <th>CRIM</th>\n",
       "      <th>ZN</th>\n",
       "      <th>INDUS</th>\n",
       "      <th>CHAS</th>\n",
       "      <th>NOX</th>\n",
       "      <th>RM</th>\n",
       "      <th>AGE</th>\n",
       "      <th>DIS</th>\n",
       "      <th>RAD</th>\n",
       "      <th>TAX</th>\n",
       "      <th>PTRATIO</th>\n",
       "      <th>LSTAT</th>\n",
       "      <th>MEDV</th>\n",
       "      <th>age_group</th>\n",
       "    </tr>\n",
       "  </thead>\n",
       "  <tbody>\n",
       "    <tr>\n",
       "      <th>0</th>\n",
       "      <td>0</td>\n",
       "      <td>0.00632</td>\n",
       "      <td>18.0</td>\n",
       "      <td>2.31</td>\n",
       "      <td>0.0</td>\n",
       "      <td>0.538</td>\n",
       "      <td>6.575</td>\n",
       "      <td>65.2</td>\n",
       "      <td>4.0900</td>\n",
       "      <td>1.0</td>\n",
       "      <td>296.0</td>\n",
       "      <td>15.3</td>\n",
       "      <td>4.98</td>\n",
       "      <td>24.0</td>\n",
       "      <td>between 35 and 70</td>\n",
       "    </tr>\n",
       "    <tr>\n",
       "      <th>1</th>\n",
       "      <td>1</td>\n",
       "      <td>0.02731</td>\n",
       "      <td>0.0</td>\n",
       "      <td>7.07</td>\n",
       "      <td>0.0</td>\n",
       "      <td>0.469</td>\n",
       "      <td>6.421</td>\n",
       "      <td>78.9</td>\n",
       "      <td>4.9671</td>\n",
       "      <td>2.0</td>\n",
       "      <td>242.0</td>\n",
       "      <td>17.8</td>\n",
       "      <td>9.14</td>\n",
       "      <td>21.6</td>\n",
       "      <td>70 years and older</td>\n",
       "    </tr>\n",
       "    <tr>\n",
       "      <th>2</th>\n",
       "      <td>2</td>\n",
       "      <td>0.02729</td>\n",
       "      <td>0.0</td>\n",
       "      <td>7.07</td>\n",
       "      <td>0.0</td>\n",
       "      <td>0.469</td>\n",
       "      <td>7.185</td>\n",
       "      <td>61.1</td>\n",
       "      <td>4.9671</td>\n",
       "      <td>2.0</td>\n",
       "      <td>242.0</td>\n",
       "      <td>17.8</td>\n",
       "      <td>4.03</td>\n",
       "      <td>34.7</td>\n",
       "      <td>between 35 and 70</td>\n",
       "    </tr>\n",
       "    <tr>\n",
       "      <th>3</th>\n",
       "      <td>3</td>\n",
       "      <td>0.03237</td>\n",
       "      <td>0.0</td>\n",
       "      <td>2.18</td>\n",
       "      <td>0.0</td>\n",
       "      <td>0.458</td>\n",
       "      <td>6.998</td>\n",
       "      <td>45.8</td>\n",
       "      <td>6.0622</td>\n",
       "      <td>3.0</td>\n",
       "      <td>222.0</td>\n",
       "      <td>18.7</td>\n",
       "      <td>2.94</td>\n",
       "      <td>33.4</td>\n",
       "      <td>between 35 and 70</td>\n",
       "    </tr>\n",
       "    <tr>\n",
       "      <th>4</th>\n",
       "      <td>4</td>\n",
       "      <td>0.06905</td>\n",
       "      <td>0.0</td>\n",
       "      <td>2.18</td>\n",
       "      <td>0.0</td>\n",
       "      <td>0.458</td>\n",
       "      <td>7.147</td>\n",
       "      <td>54.2</td>\n",
       "      <td>6.0622</td>\n",
       "      <td>3.0</td>\n",
       "      <td>222.0</td>\n",
       "      <td>18.7</td>\n",
       "      <td>5.33</td>\n",
       "      <td>36.2</td>\n",
       "      <td>between 35 and 70</td>\n",
       "    </tr>\n",
       "    <tr>\n",
       "      <th>...</th>\n",
       "      <td>...</td>\n",
       "      <td>...</td>\n",
       "      <td>...</td>\n",
       "      <td>...</td>\n",
       "      <td>...</td>\n",
       "      <td>...</td>\n",
       "      <td>...</td>\n",
       "      <td>...</td>\n",
       "      <td>...</td>\n",
       "      <td>...</td>\n",
       "      <td>...</td>\n",
       "      <td>...</td>\n",
       "      <td>...</td>\n",
       "      <td>...</td>\n",
       "      <td>...</td>\n",
       "    </tr>\n",
       "    <tr>\n",
       "      <th>501</th>\n",
       "      <td>501</td>\n",
       "      <td>0.06263</td>\n",
       "      <td>0.0</td>\n",
       "      <td>11.93</td>\n",
       "      <td>0.0</td>\n",
       "      <td>0.573</td>\n",
       "      <td>6.593</td>\n",
       "      <td>69.1</td>\n",
       "      <td>2.4786</td>\n",
       "      <td>1.0</td>\n",
       "      <td>273.0</td>\n",
       "      <td>21.0</td>\n",
       "      <td>9.67</td>\n",
       "      <td>22.4</td>\n",
       "      <td>between 35 and 70</td>\n",
       "    </tr>\n",
       "    <tr>\n",
       "      <th>502</th>\n",
       "      <td>502</td>\n",
       "      <td>0.04527</td>\n",
       "      <td>0.0</td>\n",
       "      <td>11.93</td>\n",
       "      <td>0.0</td>\n",
       "      <td>0.573</td>\n",
       "      <td>6.120</td>\n",
       "      <td>76.7</td>\n",
       "      <td>2.2875</td>\n",
       "      <td>1.0</td>\n",
       "      <td>273.0</td>\n",
       "      <td>21.0</td>\n",
       "      <td>9.08</td>\n",
       "      <td>20.6</td>\n",
       "      <td>70 years and older</td>\n",
       "    </tr>\n",
       "    <tr>\n",
       "      <th>503</th>\n",
       "      <td>503</td>\n",
       "      <td>0.06076</td>\n",
       "      <td>0.0</td>\n",
       "      <td>11.93</td>\n",
       "      <td>0.0</td>\n",
       "      <td>0.573</td>\n",
       "      <td>6.976</td>\n",
       "      <td>91.0</td>\n",
       "      <td>2.1675</td>\n",
       "      <td>1.0</td>\n",
       "      <td>273.0</td>\n",
       "      <td>21.0</td>\n",
       "      <td>5.64</td>\n",
       "      <td>23.9</td>\n",
       "      <td>70 years and older</td>\n",
       "    </tr>\n",
       "    <tr>\n",
       "      <th>504</th>\n",
       "      <td>504</td>\n",
       "      <td>0.10959</td>\n",
       "      <td>0.0</td>\n",
       "      <td>11.93</td>\n",
       "      <td>0.0</td>\n",
       "      <td>0.573</td>\n",
       "      <td>6.794</td>\n",
       "      <td>89.3</td>\n",
       "      <td>2.3889</td>\n",
       "      <td>1.0</td>\n",
       "      <td>273.0</td>\n",
       "      <td>21.0</td>\n",
       "      <td>6.48</td>\n",
       "      <td>22.0</td>\n",
       "      <td>70 years and older</td>\n",
       "    </tr>\n",
       "    <tr>\n",
       "      <th>505</th>\n",
       "      <td>505</td>\n",
       "      <td>0.04741</td>\n",
       "      <td>0.0</td>\n",
       "      <td>11.93</td>\n",
       "      <td>0.0</td>\n",
       "      <td>0.573</td>\n",
       "      <td>6.030</td>\n",
       "      <td>80.8</td>\n",
       "      <td>2.5050</td>\n",
       "      <td>1.0</td>\n",
       "      <td>273.0</td>\n",
       "      <td>21.0</td>\n",
       "      <td>7.88</td>\n",
       "      <td>11.9</td>\n",
       "      <td>70 years and older</td>\n",
       "    </tr>\n",
       "  </tbody>\n",
       "</table>\n",
       "<p>506 rows × 15 columns</p>\n",
       "</div>"
      ]
     },
     "metadata": {
      "application/vnd.databricks.v1+output": {
       "addedWidgets": {},
       "arguments": {},
       "data": "<div>\n<style scoped>\n    .dataframe tbody tr th:only-of-type {\n        vertical-align: middle;\n    }\n\n    .dataframe tbody tr th {\n        vertical-align: top;\n    }\n\n    .dataframe thead th {\n        text-align: right;\n    }\n</style>\n<table border=\"1\" class=\"dataframe\">\n  <thead>\n    <tr style=\"text-align: right;\">\n      <th></th>\n      <th>Unnamed: 0</th>\n      <th>CRIM</th>\n      <th>ZN</th>\n      <th>INDUS</th>\n      <th>CHAS</th>\n      <th>NOX</th>\n      <th>RM</th>\n      <th>AGE</th>\n      <th>DIS</th>\n      <th>RAD</th>\n      <th>TAX</th>\n      <th>PTRATIO</th>\n      <th>LSTAT</th>\n      <th>MEDV</th>\n      <th>age_group</th>\n    </tr>\n  </thead>\n  <tbody>\n    <tr>\n      <th>0</th>\n      <td>0</td>\n      <td>0.00632</td>\n      <td>18.0</td>\n      <td>2.31</td>\n      <td>0.0</td>\n      <td>0.538</td>\n      <td>6.575</td>\n      <td>65.2</td>\n      <td>4.0900</td>\n      <td>1.0</td>\n      <td>296.0</td>\n      <td>15.3</td>\n      <td>4.98</td>\n      <td>24.0</td>\n      <td>between 35 and 70</td>\n    </tr>\n    <tr>\n      <th>1</th>\n      <td>1</td>\n      <td>0.02731</td>\n      <td>0.0</td>\n      <td>7.07</td>\n      <td>0.0</td>\n      <td>0.469</td>\n      <td>6.421</td>\n      <td>78.9</td>\n      <td>4.9671</td>\n      <td>2.0</td>\n      <td>242.0</td>\n      <td>17.8</td>\n      <td>9.14</td>\n      <td>21.6</td>\n      <td>70 years and older</td>\n    </tr>\n    <tr>\n      <th>2</th>\n      <td>2</td>\n      <td>0.02729</td>\n      <td>0.0</td>\n      <td>7.07</td>\n      <td>0.0</td>\n      <td>0.469</td>\n      <td>7.185</td>\n      <td>61.1</td>\n      <td>4.9671</td>\n      <td>2.0</td>\n      <td>242.0</td>\n      <td>17.8</td>\n      <td>4.03</td>\n      <td>34.7</td>\n      <td>between 35 and 70</td>\n    </tr>\n    <tr>\n      <th>3</th>\n      <td>3</td>\n      <td>0.03237</td>\n      <td>0.0</td>\n      <td>2.18</td>\n      <td>0.0</td>\n      <td>0.458</td>\n      <td>6.998</td>\n      <td>45.8</td>\n      <td>6.0622</td>\n      <td>3.0</td>\n      <td>222.0</td>\n      <td>18.7</td>\n      <td>2.94</td>\n      <td>33.4</td>\n      <td>between 35 and 70</td>\n    </tr>\n    <tr>\n      <th>4</th>\n      <td>4</td>\n      <td>0.06905</td>\n      <td>0.0</td>\n      <td>2.18</td>\n      <td>0.0</td>\n      <td>0.458</td>\n      <td>7.147</td>\n      <td>54.2</td>\n      <td>6.0622</td>\n      <td>3.0</td>\n      <td>222.0</td>\n      <td>18.7</td>\n      <td>5.33</td>\n      <td>36.2</td>\n      <td>between 35 and 70</td>\n    </tr>\n    <tr>\n      <th>...</th>\n      <td>...</td>\n      <td>...</td>\n      <td>...</td>\n      <td>...</td>\n      <td>...</td>\n      <td>...</td>\n      <td>...</td>\n      <td>...</td>\n      <td>...</td>\n      <td>...</td>\n      <td>...</td>\n      <td>...</td>\n      <td>...</td>\n      <td>...</td>\n      <td>...</td>\n    </tr>\n    <tr>\n      <th>501</th>\n      <td>501</td>\n      <td>0.06263</td>\n      <td>0.0</td>\n      <td>11.93</td>\n      <td>0.0</td>\n      <td>0.573</td>\n      <td>6.593</td>\n      <td>69.1</td>\n      <td>2.4786</td>\n      <td>1.0</td>\n      <td>273.0</td>\n      <td>21.0</td>\n      <td>9.67</td>\n      <td>22.4</td>\n      <td>between 35 and 70</td>\n    </tr>\n    <tr>\n      <th>502</th>\n      <td>502</td>\n      <td>0.04527</td>\n      <td>0.0</td>\n      <td>11.93</td>\n      <td>0.0</td>\n      <td>0.573</td>\n      <td>6.120</td>\n      <td>76.7</td>\n      <td>2.2875</td>\n      <td>1.0</td>\n      <td>273.0</td>\n      <td>21.0</td>\n      <td>9.08</td>\n      <td>20.6</td>\n      <td>70 years and older</td>\n    </tr>\n    <tr>\n      <th>503</th>\n      <td>503</td>\n      <td>0.06076</td>\n      <td>0.0</td>\n      <td>11.93</td>\n      <td>0.0</td>\n      <td>0.573</td>\n      <td>6.976</td>\n      <td>91.0</td>\n      <td>2.1675</td>\n      <td>1.0</td>\n      <td>273.0</td>\n      <td>21.0</td>\n      <td>5.64</td>\n      <td>23.9</td>\n      <td>70 years and older</td>\n    </tr>\n    <tr>\n      <th>504</th>\n      <td>504</td>\n      <td>0.10959</td>\n      <td>0.0</td>\n      <td>11.93</td>\n      <td>0.0</td>\n      <td>0.573</td>\n      <td>6.794</td>\n      <td>89.3</td>\n      <td>2.3889</td>\n      <td>1.0</td>\n      <td>273.0</td>\n      <td>21.0</td>\n      <td>6.48</td>\n      <td>22.0</td>\n      <td>70 years and older</td>\n    </tr>\n    <tr>\n      <th>505</th>\n      <td>505</td>\n      <td>0.04741</td>\n      <td>0.0</td>\n      <td>11.93</td>\n      <td>0.0</td>\n      <td>0.573</td>\n      <td>6.030</td>\n      <td>80.8</td>\n      <td>2.5050</td>\n      <td>1.0</td>\n      <td>273.0</td>\n      <td>21.0</td>\n      <td>7.88</td>\n      <td>11.9</td>\n      <td>70 years and older</td>\n    </tr>\n  </tbody>\n</table>\n<p>506 rows × 15 columns</p>\n</div>",
       "datasetInfos": [],
       "metadata": {},
       "removedWidgets": [],
       "textData": null,
       "type": "htmlSandbox"
      }
     },
     "output_type": "display_data"
    }
   ],
   "source": [
    "boston_df"
   ]
  },
  {
   "cell_type": "code",
   "execution_count": 0,
   "metadata": {
    "application/vnd.databricks.v1+cell": {
     "cellMetadata": {
      "byteLimit": 2048000,
      "rowLimit": 10000
     },
     "inputWidgets": {},
     "nuid": "26f5733d-c6ec-4d0e-98e7-5d1f4f9c8d26",
     "showTitle": false,
     "title": ""
    }
   },
   "outputs": [
    {
     "output_type": "stream",
     "name": "stdout",
     "output_type": "stream",
     "text": [
      "Out[61]: <matplotlib.collections.PathCollection at 0x7face992afd0>"
     ]
    },
    {
     "output_type": "display_data",
     "data": {
      "image/png": "[encoded data removed]"
     },
     "metadata": {
      "application/vnd.databricks.v1+output": {
       "addedWidgets": {},
       "arguments": {},
       "data": "data:image/png;base64,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\n",
       "datasetInfos": [],
       "metadata": {},
       "removedWidgets": [],
       "type": "image"
      }
     },
     "output_type": "display_data"
    }
   ],
   "source": [
    "plt.scatter(x=boston_df['NOX'], y=boston_df['INDUS'])"
   ]
  },
  {
   "cell_type": "code",
   "execution_count": 0,
   "metadata": {
    "application/vnd.databricks.v1+cell": {
     "cellMetadata": {
      "byteLimit": 2048000,
      "rowLimit": 10000
     },
     "inputWidgets": {},
     "nuid": "e1484ca0-649a-4f22-b732-78e0079d1917",
     "showTitle": false,
     "title": ""
    }
   },
   "outputs": [],
   "source": [
    "#there seems to be a correlation between Nitric oxide concentration an dthe proportion of non-retail business acres per town. As the proportion grows, so does the Nitric oxide concentration."
   ]
  },
  {
   "cell_type": "code",
   "execution_count": 0,
   "metadata": {
    "application/vnd.databricks.v1+cell": {
     "cellMetadata": {
      "byteLimit": 2048000,
      "rowLimit": 10000
     },
     "inputWidgets": {},
     "nuid": "f47a9056-d353-4842-971c-d195d0025ba2",
     "showTitle": false,
     "title": ""
    }
   },
   "outputs": [
    {
     "output_type": "stream",
     "name": "stdout",
     "output_type": "stream",
     "text": [
      "Out[62]: (array([  3.,  12.,   0.,   0.,   1.,   0.,   0.,   1.,  34.,   7.,   1.,\n         16.,   3.,   0.,  12.,   0.,   6.,  20.,   9.,   0.,  19.,   7.,\n         39.,   4.,  20.,  30.,   5.,  21.,  19.,   8.,   8.,   5., 140.,\n          0.,   0.,  38.,  16.,   0.,   0.,   2.]),\n array([12.6  , 12.835, 13.07 , 13.305, 13.54 , 13.775, 14.01 , 14.245,\n        14.48 , 14.715, 14.95 , 15.185, 15.42 , 15.655, 15.89 , 16.125,\n        16.36 , 16.595, 16.83 , 17.065, 17.3  , 17.535, 17.77 , 18.005,\n        18.24 , 18.475, 18.71 , 18.945, 19.18 , 19.415, 19.65 , 19.885,\n        20.12 , 20.355, 20.59 , 20.825, 21.06 , 21.295, 21.53 , 21.765,\n        22.   ]),\n <BarContainer object of 40 artists>)"
     ]
    },
    {
     "output_type": "display_data",
     "data": {
      "image/png": "[encoded data removed]"
     },
     "metadata": {
      "application/vnd.databricks.v1+output": {
       "addedWidgets": {},
       "arguments": {},
       "data": "data:image/png;base64,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\n",
       "datasetInfos": [],
       "metadata": {},
       "removedWidgets": [],
       "type": "image"
      }
     },
     "output_type": "display_data"
    }
   ],
   "source": [
    "plt.figure(figsize=(15,9))\n",
    "plt.title('Pupil to teacher ratio ')\n",
    "num_bins=40\n",
    "plt.hist(boston_df['PTRATIO'], num_bins,facecolor='blue')"
   ]
  },
  {
   "cell_type": "code",
   "execution_count": 0,
   "metadata": {
    "application/vnd.databricks.v1+cell": {
     "cellMetadata": {
      "byteLimit": 2048000,
      "rowLimit": 10000
     },
     "inputWidgets": {},
     "nuid": "5abbbc18-5f06-43c4-b8ff-239e5cce6932",
     "showTitle": false,
     "title": ""
    }
   },
   "outputs": [
    {
     "output_type": "stream",
     "name": "stdout",
     "output_type": "stream",
     "text": [
      "Out[63]: 0      24.0\n1      21.6\n2      34.7\n3      33.4\n4      36.2\n       ... \n501    22.4\n502    20.6\n503    23.9\n504    22.0\n505    11.9\nName: MEDV, Length: 471, dtype: float64"
     ]
    }
   ],
   "source": [
    "boston_df[boston_df['CHAS']==0]['MEDV']"
   ]
  },
  {
   "cell_type": "code",
   "execution_count": 0,
   "metadata": {
    "application/vnd.databricks.v1+cell": {
     "cellMetadata": {
      "byteLimit": 2048000,
      "rowLimit": 10000
     },
     "inputWidgets": {},
     "nuid": "835f3888-067b-4e39-a2c9-07e4c3b15268",
     "showTitle": false,
     "title": ""
    }
   },
   "outputs": [
    {
     "output_type": "stream",
     "name": "stdout",
     "output_type": "stream",
     "text": [
      "Out[55]: Ttest_indResult(statistic=-3.996437466090509, pvalue=7.390623170519905e-05)"
     ]
    }
   ],
   "source": [
    "#Is there a significant difference in median value of houses bounded by the Charles river or not? (T-test for independent samples) \n",
    "\n",
    "#Null hupothesis : μ1 = μ2\n",
    "#Alternative hypothesis : μ1 ≠ μ2 with Alpha level = 0,05\n",
    "\n",
    "scipy.stats.ttest_ind(boston_df[boston_df['CHAS']==0]['MEDV'],boston_df[boston_df['CHAS']==1]['MEDV'], equal_var=True)"
   ]
  },
  {
   "cell_type": "code",
   "execution_count": 0,
   "metadata": {
    "application/vnd.databricks.v1+cell": {
     "cellMetadata": {},
     "inputWidgets": {},
     "nuid": "97fe3068-6195-44c5-878e-538fc6224734",
     "showTitle": false,
     "title": ""
    }
   },
   "outputs": [],
   "source": [
    "#Since the p-value is lower than the alpha level we reject the null hypotesis. Means are not equal.\n",
    "#We can assume that the Charles River variable in an explanatory variable of the Median value of houses."
   ]
  },
  {
   "cell_type": "code",
   "execution_count": 0,
   "metadata": {
    "application/vnd.databricks.v1+cell": {
     "cellMetadata": {
      "byteLimit": 2048000,
      "rowLimit": 10000
     },
     "inputWidgets": {},
     "nuid": "31fb5726-8ee1-4ced-a32d-81cfbb685dd0",
     "showTitle": false,
     "title": ""
    }
   },
   "outputs": [
    {
     "output_type": "stream",
     "name": "stdout",
     "output_type": "stream",
     "text": [
      "f_statistic:110.2613723305728,P_value:1.9683840083822383e-45\n"
     ]
    }
   ],
   "source": [
    "#Is there a difference in Median values of houses (MEDV) for each proportion of owner occupied units built prior to 1940 (AGE)? (ANOVA)\n",
    "#group samples\n",
    "group1=boston_df['age_group']=='35 years and younger'\n",
    "group2=boston_df['age_group']=='between 35 and 70'\n",
    "group3=boston_df['age_group']=='70 years and older'\n",
    "\n",
    "f_statistic, p_value=scipy.stats.f_oneway(group1, group2, group3)\n",
    "print('f_statistic:{0},P_value:{1}'.format(f_statistic,p_value))"
   ]
  },
  {
   "cell_type": "code",
   "execution_count": 0,
   "metadata": {
    "application/vnd.databricks.v1+cell": {
     "cellMetadata": {},
     "inputWidgets": {},
     "nuid": "247e9f9f-028b-4d1c-9684-fd56e61d28aa",
     "showTitle": false,
     "title": ""
    }
   },
   "outputs": [],
   "source": [
    "#We reject the null hypothesis that difference in means are equal.\n",
    "#There is statistical difference between age groups."
   ]
  },
  {
   "cell_type": "code",
   "execution_count": 0,
   "metadata": {
    "application/vnd.databricks.v1+cell": {
     "cellMetadata": {
      "byteLimit": 2048000,
      "rowLimit": 10000
     },
     "inputWidgets": {},
     "nuid": "1c9d2531-b269-494f-bcbd-07e1376e6c82",
     "showTitle": false,
     "title": ""
    }
   },
   "outputs": [
    {
     "output_type": "stream",
     "name": "stdout",
     "output_type": "stream",
     "text": [
      "Out[66]: (0.7636514469209151, 7.913361061238693e-98)"
     ]
    }
   ],
   "source": [
    "#Can we conclude that there is no relationship between Nitric oxide concentrations and proportion of non-retail business acres per town? (Pearson Correlation)\n",
    "#Run Pearson Correlation test\n",
    "scipy.stats.pearsonr(boston_df['NOX'],boston_df['INDUS'])"
   ]
  },
  {
   "cell_type": "code",
   "execution_count": 0,
   "metadata": {
    "application/vnd.databricks.v1+cell": {
     "cellMetadata": {},
     "inputWidgets": {},
     "nuid": "8edddcf9-d533-4787-997b-6c692e6707c5",
     "showTitle": false,
     "title": ""
    }
   },
   "outputs": [],
   "source": [
    "#Since the p-value is lower than 0,05 and the correlation coefficient is close to 0.8, we reject the null hypothesis and conclude that there exist a pretty strong relationship between Nitric oxide concentration and proportion of non-retail business acres per town."
   ]
  },
  {
   "cell_type": "code",
   "execution_count": 0,
   "metadata": {
    "application/vnd.databricks.v1+cell": {
     "cellMetadata": {
      "byteLimit": 2048000,
      "rowLimit": 10000
     },
     "inputWidgets": {},
     "nuid": "f46bb254-4407-4f7e-a9c8-f0ecc1d8b768",
     "showTitle": false,
     "title": ""
    }
   },
   "outputs": [
    {
     "output_type": "stream",
     "name": "stdout",
     "output_type": "stream",
     "text": [
      "/databricks/python/lib/python3.9/site-packages/statsmodels/tsa/tsatools.py:142: FutureWarning: In a future version of pandas all arguments of concat except for the argument 'objs' will be keyword-only\n  x = pd.concat(x[::order], 1)\n"
     ]
    },
    {
     "output_type": "display_data",
     "data": {
      "text/html": [
       "<table class=\"simpletable\">\n",
       "<caption>OLS Regression Results</caption>\n",
       "<tr>\n",
       "  <th>Dep. Variable:</th>           <td>DIS</td>       <th>  R-squared:         </th> <td>   0.062</td>\n",
       "</tr>\n",
       "<tr>\n",
       "  <th>Model:</th>                   <td>OLS</td>       <th>  Adj. R-squared:    </th> <td>   0.061</td>\n",
       "</tr>\n",
       "<tr>\n",
       "  <th>Method:</th>             <td>Least Squares</td>  <th>  F-statistic:       </th> <td>   33.58</td>\n",
       "</tr>\n",
       "<tr>\n",
       "  <th>Date:</th>             <td>Mon, 10 Jul 2023</td> <th>  Prob (F-statistic):</th> <td>1.21e-08</td>\n",
       "</tr>\n",
       "<tr>\n",
       "  <th>Time:</th>                 <td>13:51:43</td>     <th>  Log-Likelihood:    </th> <td> -1078.0</td>\n",
       "</tr>\n",
       "<tr>\n",
       "  <th>No. Observations:</th>      <td>   506</td>      <th>  AIC:               </th> <td>   2160.</td>\n",
       "</tr>\n",
       "<tr>\n",
       "  <th>Df Residuals:</th>          <td>   504</td>      <th>  BIC:               </th> <td>   2168.</td>\n",
       "</tr>\n",
       "<tr>\n",
       "  <th>Df Model:</th>              <td>     1</td>      <th>                     </th>     <td> </td>   \n",
       "</tr>\n",
       "<tr>\n",
       "  <th>Covariance Type:</th>      <td>nonrobust</td>    <th>                     </th>     <td> </td>   \n",
       "</tr>\n",
       "</table>\n",
       "<table class=\"simpletable\">\n",
       "<tr>\n",
       "    <td></td>       <th>coef</th>     <th>std err</th>      <th>t</th>      <th>P>|t|</th>  <th>[0.025</th>    <th>0.975]</th>  \n",
       "</tr>\n",
       "<tr>\n",
       "  <th>const</th> <td>    2.5057</td> <td>    0.240</td> <td>   10.428</td> <td> 0.000</td> <td>    2.034</td> <td>    2.978</td>\n",
       "</tr>\n",
       "<tr>\n",
       "  <th>MEDV</th>  <td>    0.0572</td> <td>    0.010</td> <td>    5.795</td> <td> 0.000</td> <td>    0.038</td> <td>    0.077</td>\n",
       "</tr>\n",
       "</table>\n",
       "<table class=\"simpletable\">\n",
       "<tr>\n",
       "  <th>Omnibus:</th>       <td>70.837</td> <th>  Durbin-Watson:     </th> <td>   0.138</td>\n",
       "</tr>\n",
       "<tr>\n",
       "  <th>Prob(Omnibus):</th> <td> 0.000</td> <th>  Jarque-Bera (JB):  </th> <td>  98.167</td>\n",
       "</tr>\n",
       "<tr>\n",
       "  <th>Skew:</th>          <td> 1.000</td> <th>  Prob(JB):          </th> <td>4.82e-22</td>\n",
       "</tr>\n",
       "<tr>\n",
       "  <th>Kurtosis:</th>      <td> 3.809</td> <th>  Cond. No.          </th> <td>    64.5</td>\n",
       "</tr>\n",
       "</table><br/><br/>Notes:<br/>[1] Standard Errors assume that the covariance matrix of the errors is correctly specified."
      ]
     },
     "metadata": {
      "application/vnd.databricks.v1+output": {
       "addedWidgets": {},
       "arguments": {},
       "data": "<table class=\"simpletable\">\n<caption>OLS Regression Results</caption>\n<tr>\n  <th>Dep. Variable:</th>           <td>DIS</td>       <th>  R-squared:         </th> <td>   0.062</td>\n</tr>\n<tr>\n  <th>Model:</th>                   <td>OLS</td>       <th>  Adj. R-squared:    </th> <td>   0.061</td>\n</tr>\n<tr>\n  <th>Method:</th>             <td>Least Squares</td>  <th>  F-statistic:       </th> <td>   33.58</td>\n</tr>\n<tr>\n  <th>Date:</th>             <td>Mon, 10 Jul 2023</td> <th>  Prob (F-statistic):</th> <td>1.21e-08</td>\n</tr>\n<tr>\n  <th>Time:</th>                 <td>13:51:43</td>     <th>  Log-Likelihood:    </th> <td> -1078.0</td>\n</tr>\n<tr>\n  <th>No. Observations:</th>      <td>   506</td>      <th>  AIC:               </th> <td>   2160.</td>\n</tr>\n<tr>\n  <th>Df Residuals:</th>          <td>   504</td>      <th>  BIC:               </th> <td>   2168.</td>\n</tr>\n<tr>\n  <th>Df Model:</th>              <td>     1</td>      <th>                     </th>     <td> </td>   \n</tr>\n<tr>\n  <th>Covariance Type:</th>      <td>nonrobust</td>    <th>                     </th>     <td> </td>   \n</tr>\n</table>\n<table class=\"simpletable\">\n<tr>\n    <td></td>       <th>coef</th>     <th>std err</th>      <th>t</th>      <th>P>|t|</th>  <th>[0.025</th>    <th>0.975]</th>  \n</tr>\n<tr>\n  <th>const</th> <td>    2.5057</td> <td>    0.240</td> <td>   10.428</td> <td> 0.000</td> <td>    2.034</td> <td>    2.978</td>\n</tr>\n<tr>\n  <th>MEDV</th>  <td>    0.0572</td> <td>    0.010</td> <td>    5.795</td> <td> 0.000</td> <td>    0.038</td> <td>    0.077</td>\n</tr>\n</table>\n<table class=\"simpletable\">\n<tr>\n  <th>Omnibus:</th>       <td>70.837</td> <th>  Durbin-Watson:     </th> <td>   0.138</td>\n</tr>\n<tr>\n  <th>Prob(Omnibus):</th> <td> 0.000</td> <th>  Jarque-Bera (JB):  </th> <td>  98.167</td>\n</tr>\n<tr>\n  <th>Skew:</th>          <td> 1.000</td> <th>  Prob(JB):          </th> <td>4.82e-22</td>\n</tr>\n<tr>\n  <th>Kurtosis:</th>      <td> 3.809</td> <th>  Cond. No.          </th> <td>    64.5</td>\n</tr>\n</table><br/><br/>Notes:<br/>[1] Standard Errors assume that the covariance matrix of the errors is correctly specified.",
       "datasetInfos": [],
       "metadata": {},
       "removedWidgets": [],
       "textData": null,
       "type": "htmlSandbox"
      }
     },
     "output_type": "display_data"
    }
   ],
   "source": [
    "#What is the impact of an additional weighted distance  to the five Boston employment centres on the median value of owner occupied homes? (Regression analysis)\n",
    "X=boston_df['MEDV']\n",
    "y=boston_df['DIS']\n",
    "X=sm.add_constant(X)\n",
    "\n",
    "model=sm.OLS(y,X).fit()\n",
    "predictions=model.predict(X)\n",
    "\n",
    "model.summary()"
   ]
  },
  {
   "cell_type": "code",
   "execution_count": 0,
   "metadata": {
    "application/vnd.databricks.v1+cell": {
     "cellMetadata": {},
     "inputWidgets": {},
     "nuid": "17d0d867-25d7-49c5-89ff-0a73b7bef9a3",
     "showTitle": false,
     "title": ""
    }
   },
   "outputs": [],
   "source": [
    "#Since the p-value is lower than 0,05 we reject the null hypothesis and conclude that there exist a relationship between the five Boston employment centres and the median value of owner occupied homes."
   ]
  }
 ],
 "metadata": {
  "application/vnd.databricks.v1+notebook": {
   "dashboards": [],
   "language": "python",
   "notebookMetadata": {
    "pythonIndentUnit": 4
   },
   "notebookName": "StudentName_ibmStats",
   "widgets": {}
  }
 },
 "nbformat": 4,
 "nbformat_minor": 0
}
